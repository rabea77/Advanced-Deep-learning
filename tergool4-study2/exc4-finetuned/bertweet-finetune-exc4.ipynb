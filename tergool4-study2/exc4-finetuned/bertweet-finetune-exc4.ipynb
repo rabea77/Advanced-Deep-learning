{
 "cells": [
  {
   "cell_type": "code",
   "execution_count": 1,
   "id": "431fd7d8-980e-4cda-9483-f06a2a6b073e",
   "metadata": {
    "execution": {
     "iopub.execute_input": "2025-08-19T16:23:42.480426Z",
     "iopub.status.busy": "2025-08-19T16:23:42.480180Z",
     "iopub.status.idle": "2025-08-19T16:23:58.386272Z",
     "shell.execute_reply": "2025-08-19T16:23:58.385714Z",
     "shell.execute_reply.started": "2025-08-19T16:23:42.480402Z"
    }
   },
   "outputs": [
    {
     "name": "stdout",
     "output_type": "stream",
     "text": [
      "cuda\n"
     ]
    },
    {
     "name": "stderr",
     "output_type": "stream",
     "text": [
      "\u001b[34m\u001b[1mwandb\u001b[0m: \u001b[33mWARNING\u001b[0m If you're specifying your api key in code, ensure this code is not shared publicly.\n",
      "\u001b[34m\u001b[1mwandb\u001b[0m: \u001b[33mWARNING\u001b[0m Consider setting the WANDB_API_KEY environment variable, or running `wandb login` from the command line.\n",
      "\u001b[34m\u001b[1mwandb\u001b[0m: No netrc file found, creating one.\n",
      "\u001b[34m\u001b[1mwandb\u001b[0m: Appending key for api.wandb.ai to your netrc file: /root/.netrc\n",
      "\u001b[34m\u001b[1mwandb\u001b[0m: Currently logged in as: \u001b[33mrabeaotman\u001b[0m (\u001b[33mrabeaotman-tel-aviv-university\u001b[0m) to \u001b[32mhttps://api.wandb.ai\u001b[0m. Use \u001b[1m`wandb login --relogin`\u001b[0m to force relogin\n"
     ]
    },
    {
     "data": {
      "text/plain": [
       "True"
      ]
     },
     "execution_count": 1,
     "metadata": {},
     "output_type": "execute_result"
    }
   ],
   "source": [
    "import os\n",
    "import pandas as pd\n",
    "import matplotlib.pyplot as plt\n",
    "import seaborn as sns\n",
    "import torch\n",
    "from torch.utils.data import DataLoader, Dataset\n",
    "from torch import nn, optim\n",
    "from sklearn.model_selection import train_test_split\n",
    "from pathlib import Path\n",
    "from sklearn.metrics import precision_score, recall_score, f1_score, accuracy_score\n",
    "\n",
    "import optuna\n",
    "import wandb\n",
    "device = torch.device(\"cuda\" if torch.cuda.is_available() else \"cpu\")\n",
    "print(device)\n",
    "\n",
    "wandb.login(key=\"017a8a1cf1968e847ba05f92a8935af78befe33f\")"
   ]
  },
  {
   "cell_type": "code",
   "execution_count": 2,
   "id": "cbc680d2-6968-4fe5-8ffd-568801388f28",
   "metadata": {
    "execution": {
     "iopub.execute_input": "2025-08-19T16:24:00.601196Z",
     "iopub.status.busy": "2025-08-19T16:24:00.600931Z",
     "iopub.status.idle": "2025-08-19T16:24:01.926380Z",
     "shell.execute_reply": "2025-08-19T16:24:01.925797Z",
     "shell.execute_reply.started": "2025-08-19T16:24:00.601176Z"
    }
   },
   "outputs": [
    {
     "name": "stdout",
     "output_type": "stream",
     "text": [
      "0 → Extremely Negative\n",
      "1 → Extremely Positive\n",
      "2 → Negative\n",
      "3 → Neutral\n",
      "4 → Positive\n",
      "#covid 19 has hit all over the world and people are stocking stuffs like hell. but country like usa, the grocery store run out the stuffs whereas in nepal, the merchants are hiding stuffs making fake shortage so that they can make money of the pandemic. what a pitty shame!! URL\n"
     ]
    }
   ],
   "source": [
    "import pandas as pd\n",
    "from sklearn.model_selection import train_test_split\n",
    "from sklearn.preprocessing import LabelEncoder\n",
    "import joblib  # לשמירת ה-LabelEncoder (אופציונלי)\n",
    "\n",
    "# --- טעינת הדאטה ---\n",
    "df = pd.read_csv(\"/kaggle/input/eda2-bertweet/bertweet-eda2.csv\" , encoding ='latin1')\n",
    "\n",
    "# שינוי שם עמודת הטקסט\n",
    "df = df.rename(columns={'clean_eda_2': 'Tweet'})\n",
    "\n",
    "# קידוד התוויות ממחרוזות למספרים\n",
    "label_encoder = LabelEncoder()\n",
    "df['label'] = label_encoder.fit_transform(df['Sentiment'])\n",
    "\n",
    "# שמירת המיפוי לשימוש עתידי (אופציונלי)\n",
    "joblib.dump(label_encoder, \"label_encoder.pkl\")\n",
    "\n",
    "# הצגת המיפוי\n",
    "for i, label in enumerate(label_encoder.classes_):\n",
    "    print(f\"{i} → {label}\")\n",
    "\n",
    "# --- חלוקה ל-Train / Eval /  ---\n",
    "train_df, eval_df = train_test_split(\n",
    "    df, test_size=0.2, random_state=42, stratify=df['label']\n",
    ")\n",
    "\n",
    "\n",
    "# שמירה של רק העמודות הדרושות למודל\n",
    "train_df = train_df[['Tweet', 'label']]\n",
    "eval_df = eval_df[['Tweet', 'label']]\n",
    "\n",
    "\n",
    "# שמירת קבצים\n",
    "train_df.to_csv(\"train_data.csv\", index=False)\n",
    "eval_df.to_csv(\"eval_data.csv\", index=False)\n",
    "\n",
    "print(train_df['Tweet'].iloc[80])"
   ]
  },
  {
   "cell_type": "code",
   "execution_count": 3,
   "id": "357819a3-d4a4-4e0c-83c9-8fe7d1755b41",
   "metadata": {
    "execution": {
     "iopub.execute_input": "2025-08-19T16:24:08.392872Z",
     "iopub.status.busy": "2025-08-19T16:24:08.392109Z",
     "iopub.status.idle": "2025-08-19T16:24:49.805812Z",
     "shell.execute_reply": "2025-08-19T16:24:49.805143Z",
     "shell.execute_reply.started": "2025-08-19T16:24:08.392838Z"
    }
   },
   "outputs": [
    {
     "data": {
      "application/vnd.jupyter.widget-view+json": {
       "model_id": "d66fe070140840b6967f51d74a2fc648",
       "version_major": 2,
       "version_minor": 0
      },
      "text/plain": [
       "config.json:   0%|          | 0.00/614 [00:00<?, ?B/s]"
      ]
     },
     "metadata": {},
     "output_type": "display_data"
    },
    {
     "data": {
      "application/vnd.jupyter.widget-view+json": {
       "model_id": "a83246040e1d4ada97c843ec64c379bc",
       "version_major": 2,
       "version_minor": 0
      },
      "text/plain": [
       "vocab.json: 0.00B [00:00, ?B/s]"
      ]
     },
     "metadata": {},
     "output_type": "display_data"
    },
    {
     "data": {
      "application/vnd.jupyter.widget-view+json": {
       "model_id": "5e659defdd9b470abfe44b7181a1959b",
       "version_major": 2,
       "version_minor": 0
      },
      "text/plain": [
       "merges.txt: 0.00B [00:00, ?B/s]"
      ]
     },
     "metadata": {},
     "output_type": "display_data"
    },
    {
     "data": {
      "application/vnd.jupyter.widget-view+json": {
       "model_id": "a2a091fee8f440d78813a4d16766a6e3",
       "version_major": 2,
       "version_minor": 0
      },
      "text/plain": [
       "tokenizer.json: 0.00B [00:00, ?B/s]"
      ]
     },
     "metadata": {},
     "output_type": "display_data"
    },
    {
     "name": "stderr",
     "output_type": "stream",
     "text": [
      "2025-08-19 16:24:19.122214: E external/local_xla/xla/stream_executor/cuda/cuda_fft.cc:477] Unable to register cuFFT factory: Attempting to register factory for plugin cuFFT when one has already been registered\n",
      "WARNING: All log messages before absl::InitializeLog() is called are written to STDERR\n",
      "E0000 00:00:1755620659.284421      36 cuda_dnn.cc:8310] Unable to register cuDNN factory: Attempting to register factory for plugin cuDNN when one has already been registered\n",
      "E0000 00:00:1755620659.334068      36 cuda_blas.cc:1418] Unable to register cuBLAS factory: Attempting to register factory for plugin cuBLAS when one has already been registered\n"
     ]
    },
    {
     "data": {
      "application/vnd.jupyter.widget-view+json": {
       "model_id": "d5da1976e02a42e8af435bbc51c940fe",
       "version_major": 2,
       "version_minor": 0
      },
      "text/plain": [
       "pytorch_model.bin:   0%|          | 0.00/1.42G [00:00<?, ?B/s]"
      ]
     },
     "metadata": {},
     "output_type": "display_data"
    },
    {
     "name": "stderr",
     "output_type": "stream",
     "text": [
      "Some weights of RobertaForSequenceClassification were not initialized from the model checkpoint at vinai/bertweet-large and are newly initialized: ['classifier.dense.bias', 'classifier.dense.weight', 'classifier.out_proj.bias', 'classifier.out_proj.weight']\n",
      "You should probably TRAIN this model on a down-stream task to be able to use it for predictions and inference.\n"
     ]
    },
    {
     "data": {
      "application/vnd.jupyter.widget-view+json": {
       "model_id": "03cfc46ef41c4e898fef070c0b036b3b",
       "version_major": 2,
       "version_minor": 0
      },
      "text/plain": [
       "model.safetensors:   0%|          | 0.00/1.42G [00:00<?, ?B/s]"
      ]
     },
     "metadata": {},
     "output_type": "display_data"
    },
    {
     "name": "stdout",
     "output_type": "stream",
     "text": [
      "Loaded checkpoint: /kaggle/input/best_bertweet-exc4/pytorch/default/1/best_model_trial_2_bertweet2.pt\n",
      "Dropped classifier keys due to shape mismatch: 0\n",
      "Missing keys: []\n",
      "Unexpected keys: []\n"
     ]
    }
   ],
   "source": [
    "from transformers import AutoTokenizer, AutoModelForSequenceClassification\n",
    "import torch\n",
    "\n",
    "# ===== 1) Base architecture =====\n",
    "model_name = \"vinai/bertweet-large\"\n",
    "num_labels = 5\n",
    "CKPT_PATH = \"/kaggle/input/best_bertweet-exc4/pytorch/default/1/best_model_trial_2_bertweet2.pt\"  # <-- your file\n",
    "\n",
    "tokenizer = AutoTokenizer.from_pretrained(model_name, use_fast=False)\n",
    "model = AutoModelForSequenceClassification.from_pretrained(\n",
    "    model_name, num_labels=num_labels\n",
    ").to(device)\n",
    "\n",
    "# ===== 2) Load checkpoint =====\n",
    "ckpt = torch.load(CKPT_PATH, map_location=device)\n",
    "\n",
    "# support both formats: pure state_dict OR {\"model_state_dict\": ...}\n",
    "state_dict = ckpt[\"model_state_dict\"] if isinstance(ckpt, dict) and \"model_state_dict\" in ckpt else ckpt\n",
    "\n",
    "# ---- strip ONLY the \"module.\" prefix when present (from DataParallel) ----\n",
    "clean_state = {}\n",
    "for k, v in state_dict.items():\n",
    "    if k.startswith(\"module.\"):\n",
    "        clean_state[k[len(\"module.\"):]] = v\n",
    "    else:\n",
    "        clean_state[k] = v\n",
    "\n",
    "# ---- (optional) drop classifier head keys if shapes don't match ----\n",
    "model_state = model.state_dict()\n",
    "filtered = {}\n",
    "dropped = []\n",
    "for k, v in clean_state.items():\n",
    "    if k in model_state:\n",
    "        if model_state[k].shape == v.shape:\n",
    "            filtered[k] = v\n",
    "        else:\n",
    "            # if the saved head has a different shape (e.g., different num_labels)\n",
    "            if k.startswith((\"classifier.\", \"score.\", \"classification_head.\")):\n",
    "                dropped.append(k)\n",
    "            else:\n",
    "                # keep non-head mismatches out to avoid errors\n",
    "                # (rare unless architecture changed)\n",
    "                pass\n",
    "    else:\n",
    "        # keys that don't exist in current model_state will be treated as 'unexpected'\n",
    "        # we simply don't include them in filtered\n",
    "        pass\n",
    "\n",
    "missing, unexpected = model.load_state_dict(filtered, strict=False)\n",
    "\n",
    "print(f\"Loaded checkpoint: {CKPT_PATH}\")\n",
    "print(f\"Dropped classifier keys due to shape mismatch: {len(dropped)}\")\n",
    "if dropped:\n",
    "    for dk in dropped[:8]:\n",
    "        print(\"  -\", dk)\n",
    "    if len(dropped) > 8:\n",
    "        print(f\"  ... and {len(dropped)-8} more\")\n",
    "\n",
    "print(\"Missing keys:\", missing)\n",
    "print(\"Unexpected keys:\", unexpected)\n"
   ]
  },
  {
   "cell_type": "code",
   "execution_count": 4,
   "id": "3018a06f-c000-4831-a79a-be0c2786b0a6",
   "metadata": {
    "execution": {
     "iopub.execute_input": "2025-08-19T16:25:16.692773Z",
     "iopub.status.busy": "2025-08-19T16:25:16.692108Z",
     "iopub.status.idle": "2025-08-19T16:25:16.698301Z",
     "shell.execute_reply": "2025-08-19T16:25:16.697542Z",
     "shell.execute_reply.started": "2025-08-19T16:25:16.692748Z"
    }
   },
   "outputs": [],
   "source": [
    "class TweetDataset(Dataset):\n",
    "    def __init__(self, dataframe, tokenizer):\n",
    "        self.texts = dataframe['Tweet'].tolist()\n",
    "        self.labels = dataframe['label'].tolist() \n",
    "        self.tokenizer = tokenizer\n",
    "\n",
    "    def __len__(self):\n",
    "        return len(self.texts)\n",
    "\n",
    "    def __getitem__(self, idx):\n",
    "        text = self.texts[idx]\n",
    "        label = self.labels[idx]\n",
    "\n",
    "        encoding = self.tokenizer(\n",
    "            text,\n",
    "            padding='max_length',\n",
    "            truncation=True,\n",
    "            max_length=96,  \n",
    "            return_tensors='pt'\n",
    "        )\n",
    "\n",
    "        return {\n",
    "            'input_ids': encoding['input_ids'].squeeze(0),\n",
    "            'attention_mask': encoding['attention_mask'].squeeze(0),\n",
    "            'labels': torch.tensor(label, dtype=torch.long)\n",
    "        }"
   ]
  },
  {
   "cell_type": "code",
   "execution_count": 5,
   "id": "baf24fc7-027b-4b05-a742-56e07843ad7e",
   "metadata": {
    "execution": {
     "iopub.execute_input": "2025-08-19T16:25:20.419170Z",
     "iopub.status.busy": "2025-08-19T16:25:20.418894Z",
     "iopub.status.idle": "2025-08-19T16:25:20.430248Z",
     "shell.execute_reply": "2025-08-19T16:25:20.429558Z",
     "shell.execute_reply.started": "2025-08-19T16:25:20.419150Z"
    }
   },
   "outputs": [
    {
     "name": "stdout",
     "output_type": "stream",
     "text": [
      "Classes: [0 1 2 3 4]\n",
      "Class weights: [1.49396985 1.23687595 0.82823857 1.08395757 0.71827367]\n"
     ]
    }
   ],
   "source": [
    "from sklearn.utils.class_weight import compute_class_weight\n",
    "import numpy as np\n",
    "import torch\n",
    "from torch import nn\n",
    "\n",
    "# חישוב משקלי תוויות לפי הופעה בפועל — על ה-TRAIN בלבד\n",
    "train_labels = train_df['label'].values\n",
    "classes = np.unique(train_labels)\n",
    "\n",
    "class_weights = compute_class_weight(\n",
    "    class_weight='balanced',\n",
    "    classes=classes,\n",
    "    y=train_labels\n",
    ")\n",
    "\n",
    "# הפיכה לטנסור לשימוש בתוך CrossEntropyLoss\n",
    "class_weights_tensor = torch.tensor(class_weights, dtype=torch.float, device=device)\n",
    "\n",
    "# פונקציית הפסד עם משקלים\n",
    "criterion = nn.CrossEntropyLoss(weight=class_weights_tensor)\n",
    "\n",
    "# אופציונלי: להדפיס כדי לדעת מה קיבלת\n",
    "print(\"Classes:\", classes)\n",
    "print(\"Class weights:\", class_weights)\n"
   ]
  },
  {
   "cell_type": "code",
   "execution_count": 6,
   "id": "db828189-80fe-4485-a787-673ca7d21676",
   "metadata": {
    "execution": {
     "iopub.execute_input": "2025-08-19T16:25:46.539808Z",
     "iopub.status.busy": "2025-08-19T16:25:46.539200Z",
     "iopub.status.idle": "2025-08-19T17:18:32.110197Z",
     "shell.execute_reply": "2025-08-19T17:18:32.109439Z",
     "shell.execute_reply.started": "2025-08-19T16:25:46.539783Z"
    }
   },
   "outputs": [
    {
     "name": "stderr",
     "output_type": "stream",
     "text": [
      "Some weights of RobertaForSequenceClassification were not initialized from the model checkpoint at vinai/bertweet-large and are newly initialized: ['classifier.dense.bias', 'classifier.dense.weight', 'classifier.out_proj.bias', 'classifier.out_proj.weight']\n",
      "You should probably TRAIN this model on a down-stream task to be able to use it for predictions and inference.\n",
      "/tmp/ipykernel_36/3273585051.py:124: FutureWarning: `torch.cuda.amp.GradScaler(args...)` is deprecated. Please use `torch.amp.GradScaler('cuda', args...)` instead.\n",
      "  scaler = torch.cuda.amp.GradScaler(enabled=torch.cuda.is_available())\n"
     ]
    },
    {
     "data": {
      "text/html": [
       "Tracking run with wandb version 0.20.1"
      ],
      "text/plain": [
       "<IPython.core.display.HTML object>"
      ]
     },
     "metadata": {},
     "output_type": "display_data"
    },
    {
     "data": {
      "text/html": [
       "Run data is saved locally in <code>/kaggle/working/wandb/run-20250819_162549-yeccxddt</code>"
      ],
      "text/plain": [
       "<IPython.core.display.HTML object>"
      ]
     },
     "metadata": {},
     "output_type": "display_data"
    },
    {
     "data": {
      "text/html": [
       "Syncing run <strong><a href='https://wandb.ai/rabeaotman-tel-aviv-university/Finetune-bertweet-ex4-take-2/runs/yeccxddt' target=\"_blank\">final_15p_ex4</a></strong> to <a href='https://wandb.ai/rabeaotman-tel-aviv-university/Finetune-bertweet-ex4-take-2' target=\"_blank\">Weights & Biases</a> (<a href='https://wandb.me/developer-guide' target=\"_blank\">docs</a>)<br>"
      ],
      "text/plain": [
       "<IPython.core.display.HTML object>"
      ]
     },
     "metadata": {},
     "output_type": "display_data"
    },
    {
     "data": {
      "text/html": [
       " View project at <a href='https://wandb.ai/rabeaotman-tel-aviv-university/Finetune-bertweet-ex4-take-2' target=\"_blank\">https://wandb.ai/rabeaotman-tel-aviv-university/Finetune-bertweet-ex4-take-2</a>"
      ],
      "text/plain": [
       "<IPython.core.display.HTML object>"
      ]
     },
     "metadata": {},
     "output_type": "display_data"
    },
    {
     "data": {
      "text/html": [
       " View run at <a href='https://wandb.ai/rabeaotman-tel-aviv-university/Finetune-bertweet-ex4-take-2/runs/yeccxddt' target=\"_blank\">https://wandb.ai/rabeaotman-tel-aviv-university/Finetune-bertweet-ex4-take-2/runs/yeccxddt</a>"
      ],
      "text/plain": [
       "<IPython.core.display.HTML object>"
      ]
     },
     "metadata": {},
     "output_type": "display_data"
    },
    {
     "data": {
      "application/vnd.jupyter.widget-view+json": {
       "model_id": "",
       "version_major": 2,
       "version_minor": 0
      },
      "text/plain": [
       "Epoch 1/15:   0%|          | 0/511 [00:00<?, ?it/s]"
      ]
     },
     "metadata": {},
     "output_type": "display_data"
    },
    {
     "name": "stderr",
     "output_type": "stream",
     "text": [
      "/tmp/ipykernel_36/3273585051.py:187: FutureWarning: `torch.cuda.amp.autocast(args...)` is deprecated. Please use `torch.amp.autocast('cuda', args...)` instead.\n",
      "  with torch.cuda.amp.autocast(enabled=torch.cuda.is_available()):\n",
      "/tmp/ipykernel_36/3273585051.py:139: FutureWarning: `torch.cuda.amp.autocast(args...)` is deprecated. Please use `torch.amp.autocast('cuda', args...)` instead.\n",
      "  with torch.cuda.amp.autocast(enabled=torch.cuda.is_available()):\n"
     ]
    },
    {
     "data": {
      "application/vnd.jupyter.widget-view+json": {
       "model_id": "",
       "version_major": 2,
       "version_minor": 0
      },
      "text/plain": [
       "Epoch 2/15:   0%|          | 0/511 [00:00<?, ?it/s]"
      ]
     },
     "metadata": {},
     "output_type": "display_data"
    },
    {
     "name": "stderr",
     "output_type": "stream",
     "text": [
      "/tmp/ipykernel_36/3273585051.py:187: FutureWarning: `torch.cuda.amp.autocast(args...)` is deprecated. Please use `torch.amp.autocast('cuda', args...)` instead.\n",
      "  with torch.cuda.amp.autocast(enabled=torch.cuda.is_available()):\n",
      "/tmp/ipykernel_36/3273585051.py:139: FutureWarning: `torch.cuda.amp.autocast(args...)` is deprecated. Please use `torch.amp.autocast('cuda', args...)` instead.\n",
      "  with torch.cuda.amp.autocast(enabled=torch.cuda.is_available()):\n"
     ]
    },
    {
     "data": {
      "application/vnd.jupyter.widget-view+json": {
       "model_id": "",
       "version_major": 2,
       "version_minor": 0
      },
      "text/plain": [
       "Epoch 3/15:   0%|          | 0/511 [00:00<?, ?it/s]"
      ]
     },
     "metadata": {},
     "output_type": "display_data"
    },
    {
     "name": "stderr",
     "output_type": "stream",
     "text": [
      "/tmp/ipykernel_36/3273585051.py:187: FutureWarning: `torch.cuda.amp.autocast(args...)` is deprecated. Please use `torch.amp.autocast('cuda', args...)` instead.\n",
      "  with torch.cuda.amp.autocast(enabled=torch.cuda.is_available()):\n",
      "/tmp/ipykernel_36/3273585051.py:139: FutureWarning: `torch.cuda.amp.autocast(args...)` is deprecated. Please use `torch.amp.autocast('cuda', args...)` instead.\n",
      "  with torch.cuda.amp.autocast(enabled=torch.cuda.is_available()):\n"
     ]
    },
    {
     "data": {
      "application/vnd.jupyter.widget-view+json": {
       "model_id": "",
       "version_major": 2,
       "version_minor": 0
      },
      "text/plain": [
       "Epoch 4/15:   0%|          | 0/511 [00:00<?, ?it/s]"
      ]
     },
     "metadata": {},
     "output_type": "display_data"
    },
    {
     "name": "stderr",
     "output_type": "stream",
     "text": [
      "Exception ignored in: Exception ignored in: <function _MultiProcessingDataLoaderIter.__del__ at 0x7eed3d433920><function _MultiProcessingDataLoaderIter.__del__ at 0x7eed3d433920>\n",
      "\n",
      "Traceback (most recent call last):\n",
      "Traceback (most recent call last):\n",
      "  File \"/usr/local/lib/python3.11/dist-packages/torch/utils/data/dataloader.py\", line 1618, in __del__\n",
      "  File \"/usr/local/lib/python3.11/dist-packages/torch/utils/data/dataloader.py\", line 1618, in __del__\n",
      "        self._shutdown_workers()self._shutdown_workers()\n",
      "\n",
      "  File \"/usr/local/lib/python3.11/dist-packages/torch/utils/data/dataloader.py\", line 1601, in _shutdown_workers\n",
      "  File \"/usr/local/lib/python3.11/dist-packages/torch/utils/data/dataloader.py\", line 1601, in _shutdown_workers\n",
      "        if w.is_alive():if w.is_alive():\n",
      "\n",
      "              ^^^^^^^^^^^^^^^^^^^^^^^\n",
      "^  File \"/usr/lib/python3.11/multiprocessing/process.py\", line 160, in is_alive\n",
      "\n",
      "      File \"/usr/lib/python3.11/multiprocessing/process.py\", line 160, in is_alive\n",
      "assert self._parent_pid == os.getpid(), 'can only test a child process'    \n",
      "assert self._parent_pid == os.getpid(), 'can only test a child process' \n",
      "                   ^  ^^^^^^^^^^^^^^^^^^^^^^^^^^^^^^^^^^^^^^^^^^^^^^^^^^^^^^^^^^^\n",
      "^^AssertionError: \n",
      "can only test a child processAssertionError: \n",
      "can only test a child process\n",
      "/tmp/ipykernel_36/3273585051.py:187: FutureWarning: `torch.cuda.amp.autocast(args...)` is deprecated. Please use `torch.amp.autocast('cuda', args...)` instead.\n",
      "  with torch.cuda.amp.autocast(enabled=torch.cuda.is_available()):\n",
      "/tmp/ipykernel_36/3273585051.py:139: FutureWarning: `torch.cuda.amp.autocast(args...)` is deprecated. Please use `torch.amp.autocast('cuda', args...)` instead.\n",
      "  with torch.cuda.amp.autocast(enabled=torch.cuda.is_available()):\n"
     ]
    },
    {
     "data": {
      "application/vnd.jupyter.widget-view+json": {
       "model_id": "",
       "version_major": 2,
       "version_minor": 0
      },
      "text/plain": [
       "Epoch 5/15:   0%|          | 0/511 [00:00<?, ?it/s]"
      ]
     },
     "metadata": {},
     "output_type": "display_data"
    },
    {
     "name": "stderr",
     "output_type": "stream",
     "text": [
      "/tmp/ipykernel_36/3273585051.py:187: FutureWarning: `torch.cuda.amp.autocast(args...)` is deprecated. Please use `torch.amp.autocast('cuda', args...)` instead.\n",
      "  with torch.cuda.amp.autocast(enabled=torch.cuda.is_available()):\n",
      "/tmp/ipykernel_36/3273585051.py:139: FutureWarning: `torch.cuda.amp.autocast(args...)` is deprecated. Please use `torch.amp.autocast('cuda', args...)` instead.\n",
      "  with torch.cuda.amp.autocast(enabled=torch.cuda.is_available()):\n"
     ]
    },
    {
     "data": {
      "application/vnd.jupyter.widget-view+json": {
       "model_id": "",
       "version_major": 2,
       "version_minor": 0
      },
      "text/plain": [
       "Epoch 6/15:   0%|          | 0/511 [00:00<?, ?it/s]"
      ]
     },
     "metadata": {},
     "output_type": "display_data"
    },
    {
     "name": "stderr",
     "output_type": "stream",
     "text": [
      "/tmp/ipykernel_36/3273585051.py:187: FutureWarning: `torch.cuda.amp.autocast(args...)` is deprecated. Please use `torch.amp.autocast('cuda', args...)` instead.\n",
      "  with torch.cuda.amp.autocast(enabled=torch.cuda.is_available()):\n",
      "Exception ignored in: <function _MultiProcessingDataLoaderIter.__del__ at 0x7eed3d433920>\n",
      "Traceback (most recent call last):\n",
      "  File \"/usr/local/lib/python3.11/dist-packages/torch/utils/data/dataloader.py\", line 1618, in __del__\n",
      "    self._shutdown_workers()\n",
      "  File \"/usr/local/lib/python3.11/dist-packages/torch/utils/data/dataloader.py\", line 1601, in _shutdown_workers\n",
      "    if w.is_alive():\n",
      "       ^^^^^^^^^^^^\n",
      "  File \"/usr/lib/python3.11/multiprocessing/process.py\", line 160, in is_alive\n",
      "    assert self._parent_pid == os.getpid(), 'can only test a child process'\n",
      "           ^^^^^^^^^^^^^^^^^^^^^^^^^^^^^^^\n",
      "AssertionError: can only test a child process\n",
      "Exception ignored in: <function _MultiProcessingDataLoaderIter.__del__ at 0x7eed3d433920>\n",
      "Traceback (most recent call last):\n",
      "  File \"/usr/local/lib/python3.11/dist-packages/torch/utils/data/dataloader.py\", line 1618, in __del__\n",
      "    self._shutdown_workers()\n",
      "  File \"/usr/local/lib/python3.11/dist-packages/torch/utils/data/dataloader.py\", line 1601, in _shutdown_workers\n",
      "    if w.is_alive():\n",
      "       ^^^^^^^^^^^^\n",
      "  File \"/usr/lib/python3.11/multiprocessing/process.py\", line 160, in is_alive\n",
      "    assert self._parent_pid == os.getpid(), 'can only test a child process'\n",
      "           ^^^^^^^^^^^^^^^^^^^^^^^^^^^^^^^\n",
      "AssertionError: can only test a child process\n",
      "/tmp/ipykernel_36/3273585051.py:139: FutureWarning: `torch.cuda.amp.autocast(args...)` is deprecated. Please use `torch.amp.autocast('cuda', args...)` instead.\n",
      "  with torch.cuda.amp.autocast(enabled=torch.cuda.is_available()):\n"
     ]
    },
    {
     "data": {
      "application/vnd.jupyter.widget-view+json": {
       "model_id": "",
       "version_major": 2,
       "version_minor": 0
      },
      "text/plain": [
       "Epoch 7/15:   0%|          | 0/511 [00:00<?, ?it/s]"
      ]
     },
     "metadata": {},
     "output_type": "display_data"
    },
    {
     "name": "stderr",
     "output_type": "stream",
     "text": [
      "/tmp/ipykernel_36/3273585051.py:187: FutureWarning: `torch.cuda.amp.autocast(args...)` is deprecated. Please use `torch.amp.autocast('cuda', args...)` instead.\n",
      "  with torch.cuda.amp.autocast(enabled=torch.cuda.is_available()):\n",
      "Exception ignored in: <function _MultiProcessingDataLoaderIter.__del__ at 0x7eed3d433920>\n",
      "Traceback (most recent call last):\n",
      "  File \"/usr/local/lib/python3.11/dist-packages/torch/utils/data/dataloader.py\", line 1618, in __del__\n",
      "    self._shutdown_workers()\n",
      "  File \"/usr/local/lib/python3.11/dist-packages/torch/utils/data/dataloader.py\", line 1601, in _shutdown_workers\n",
      "    if w.is_alive():\n",
      "       ^^^^^^^^^^^^\n",
      "  File \"/usr/lib/python3.11/multiprocessing/process.py\", line 160, in is_alive\n",
      "    assert self._parent_pid == os.getpid(), 'can only test a child process'\n",
      "           ^^^^^^^^^^^^^^^^^^^^^^^^^^^^^^^\n",
      "AssertionError: can only test a child process\n",
      "Exception ignored in: <function _MultiProcessingDataLoaderIter.__del__ at 0x7eed3d433920>\n",
      "Traceback (most recent call last):\n",
      "  File \"/usr/local/lib/python3.11/dist-packages/torch/utils/data/dataloader.py\", line 1618, in __del__\n",
      "    self._shutdown_workers()\n",
      "  File \"/usr/local/lib/python3.11/dist-packages/torch/utils/data/dataloader.py\", line 1601, in _shutdown_workers\n",
      "    if w.is_alive():\n",
      "       ^^^^^^^^^^^^\n",
      "  File \"/usr/lib/python3.11/multiprocessing/process.py\", line 160, in is_alive\n",
      "    assert self._parent_pid == os.getpid(), 'can only test a child process'\n",
      "           ^^^^^^^^^^^^^^^^^^^^^^^^^^^^^^^\n",
      "AssertionError: can only test a child process\n",
      "Exception ignored in: <function _MultiProcessingDataLoaderIter.__del__ at 0x7eed3d433920>\n",
      "Traceback (most recent call last):\n",
      "  File \"/usr/local/lib/python3.11/dist-packages/torch/utils/data/dataloader.py\", line 1618, in __del__\n",
      "    self._shutdown_workers()\n",
      "  File \"/usr/local/lib/python3.11/dist-packages/torch/utils/data/dataloader.py\", line 1601, in _shutdown_workers\n",
      "    if w.is_alive():\n",
      "       ^^^^^^^^^^^^\n",
      "  File \"/usr/lib/python3.11/multiprocessing/process.py\", line 160, in is_alive\n",
      "    assert self._parent_pid == os.getpid(), 'can only test a child process'\n",
      "           ^^^^^^^^^^^^^^^^^^^^^^^^^^^^^^^\n",
      "AssertionError: can only test a child process\n",
      "Exception ignored in: <function _MultiProcessingDataLoaderIter.__del__ at 0x7eed3d433920>\n",
      "Traceback (most recent call last):\n",
      "  File \"/usr/local/lib/python3.11/dist-packages/torch/utils/data/dataloader.py\", line 1618, in __del__\n",
      "    self._shutdown_workers()\n",
      "  File \"/usr/local/lib/python3.11/dist-packages/torch/utils/data/dataloader.py\", line 1601, in _shutdown_workers\n",
      "    if w.is_alive():\n",
      "       ^^^^^^^^^^^^\n",
      "  File \"/usr/lib/python3.11/multiprocessing/process.py\", line 160, in is_alive\n",
      "    assert self._parent_pid == os.getpid(), 'can only test a child process'\n",
      "           ^^^^^^^^^^^^^^^^^^^^^^^^^^^^^^^\n",
      "AssertionError: can only test a child process\n",
      "/tmp/ipykernel_36/3273585051.py:139: FutureWarning: `torch.cuda.amp.autocast(args...)` is deprecated. Please use `torch.amp.autocast('cuda', args...)` instead.\n",
      "  with torch.cuda.amp.autocast(enabled=torch.cuda.is_available()):\n"
     ]
    },
    {
     "name": "stdout",
     "output_type": "stream",
     "text": [
      "Early stopping at epoch 7 (no val_loss improvement for 2 epoch(s)).\n",
      "Best val loss: 0.812838\n",
      "Best checkpoint saved to: ./final_15ep_checkpoints/best_model_final_15p_ex4.pt\n"
     ]
    },
    {
     "data": {
      "image/png": "[encoded data removed]",
      "text/plain": [
       "<Figure size 600x400 with 1 Axes>"
      ]
     },
     "metadata": {},
     "output_type": "display_data"
    },
    {
     "data": {
      "image/png": "[encoded data removed]",
      "text/plain": [
       "<Figure size 600x400 with 1 Axes>"
      ]
     },
     "metadata": {},
     "output_type": "display_data"
    },
    {
     "data": {
      "image/png": "[encoded data removed]",
      "text/plain": [
       "<Figure size 600x400 with 1 Axes>"
      ]
     },
     "metadata": {},
     "output_type": "display_data"
    },
    {
     "name": "stdout",
     "output_type": "stream",
     "text": [
      "Saved figures to: /kaggle/working/val_accuracy_per_epoch.png, /kaggle/working/loss_per_epoch.png, /kaggle/working/lr_schedule.png\n"
     ]
    },
    {
     "data": {
      "text/html": [],
      "text/plain": [
       "<IPython.core.display.HTML object>"
      ]
     },
     "metadata": {},
     "output_type": "display_data"
    },
    {
     "data": {
      "text/html": [
       "<br>    <style><br>        .wandb-row {<br>            display: flex;<br>            flex-direction: row;<br>            flex-wrap: wrap;<br>            justify-content: flex-start;<br>            width: 100%;<br>        }<br>        .wandb-col {<br>            display: flex;<br>            flex-direction: column;<br>            flex-basis: 100%;<br>            flex: 1;<br>            padding: 10px;<br>        }<br>    </style><br><div class=\"wandb-row\"><div class=\"wandb-col\"><h3>Run history:</h3><br/><table class=\"wandb\"><tr><td>epoch</td><td>▁▁▁▁▁▁▂▂▂▂▂▂▂▃▃▃▃▃▅▅▅▅▅▅▆▆▆▆▆▆▇▇▇▇▇█████</td></tr><tr><td>step</td><td>▁▁▁▁▂▂▂▂▃▃▃▃▃▃▄▄▄▄▄▄▄▅▅▅▅▅▅▅▅▆▆▆▇▇▇▇▇▇██</td></tr><tr><td>train/epoch_loss</td><td>█▅▄▃▂▂▁</td></tr><tr><td>train/loss</td><td>███▇▇▆▆▆▅▅▆▅▅▄▄▄▄▅▄▄▄▅▅▃▃▃▂▄▂▃▂▂▂▂▂▂▂▁▂▃</td></tr><tr><td>train/lr_enc</td><td>▁▁▂▃▃▄▅▇▇█████████████▇▇▇▇▇▇▆▆▆▆▆▆▆▆▅▅▅▅</td></tr><tr><td>train/lr_head</td><td>▁▁▂▂▃▄▅▇▇███████████▇▇▇▇▇▇▇▇▇▇▆▆▆▆▆▆▆▆▅▅</td></tr><tr><td>val/acc</td><td>▁▄▅▇███</td></tr><tr><td>val/f1_macro</td><td>▁▅▄▇███</td></tr><tr><td>val/loss</td><td>█▄▄▂▁▂▁</td></tr></table><br/></div><div class=\"wandb-col\"><h3>Run summary:</h3><br/><table class=\"wandb\"><tr><td>epoch</td><td>7</td></tr><tr><td>step</td><td>3550</td></tr><tr><td>train/epoch_loss</td><td>0.60744</td></tr><tr><td>train/loss</td><td>0.66844</td></tr><tr><td>train/lr_enc</td><td>1e-05</td></tr><tr><td>train/lr_head</td><td>0.00013</td></tr><tr><td>val/acc</td><td>0.6809</td></tr><tr><td>val/f1_macro</td><td>0.69312</td></tr><tr><td>val/loss</td><td>0.83963</td></tr></table><br/></div></div>"
      ],
      "text/plain": [
       "<IPython.core.display.HTML object>"
      ]
     },
     "metadata": {},
     "output_type": "display_data"
    },
    {
     "data": {
      "text/html": [
       " View run <strong style=\"color:#cdcd00\">final_15p_ex4</strong> at: <a href='https://wandb.ai/rabeaotman-tel-aviv-university/Finetune-bertweet-ex4-take-2/runs/yeccxddt' target=\"_blank\">https://wandb.ai/rabeaotman-tel-aviv-university/Finetune-bertweet-ex4-take-2/runs/yeccxddt</a><br> View project at: <a href='https://wandb.ai/rabeaotman-tel-aviv-university/Finetune-bertweet-ex4-take-2' target=\"_blank\">https://wandb.ai/rabeaotman-tel-aviv-university/Finetune-bertweet-ex4-take-2</a><br>Synced 5 W&B file(s), 0 media file(s), 0 artifact file(s) and 0 other file(s)"
      ],
      "text/plain": [
       "<IPython.core.display.HTML object>"
      ]
     },
     "metadata": {},
     "output_type": "display_data"
    },
    {
     "data": {
      "text/html": [
       "Find logs at: <code>./wandb/run-20250819_162549-yeccxddt/logs</code>"
      ],
      "text/plain": [
       "<IPython.core.display.HTML object>"
      ]
     },
     "metadata": {},
     "output_type": "display_data"
    }
   ],
   "source": [
    "# =========================\n",
    "# 0) Imports & basic config\n",
    "# =========================\n",
    "import os\n",
    "import math\n",
    "import torch\n",
    "import numpy as np\n",
    "import matplotlib.pyplot as plt\n",
    "\n",
    "from torch import nn\n",
    "from torch.optim import AdamW\n",
    "from torch.utils.data import DataLoader\n",
    "from torch.optim.lr_scheduler import LinearLR, CosineAnnealingLR, SequentialLR\n",
    "\n",
    "from transformers import AutoTokenizer, AutoModelForSequenceClassification\n",
    "from sklearn.metrics import accuracy_score, f1_score\n",
    "from tqdm.auto import tqdm\n",
    "import wandb\n",
    "\n",
    "# Reproducibility\n",
    "SEED = 42\n",
    "torch.manual_seed(SEED)\n",
    "np.random.seed(SEED)\n",
    "if torch.cuda.is_available():\n",
    "    torch.cuda.manual_seed_all(SEED)\n",
    "\n",
    "device = torch.device(\"cuda\" if torch.cuda.is_available() else \"cpu\")\n",
    "\n",
    "history = {\"epoch\": [], \"train_loss\": [], \"val_loss\": [], \"val_acc\": [], \"val_f1_macro\": []}\n",
    "# (optional) track LR across steps to visualize the scheduler curve\n",
    "lr_history_enc, lr_history_head = [], []\n",
    "\n",
    "# ========= W&B toggle =========\n",
    "USE_WANDB = True\n",
    "WANDB_PROJECT = \"Finetune-bertweet-ex4-take-2\"\n",
    "RUN_NAME = \"final_15p_ex4\"\n",
    "\n",
    "# ======================================\n",
    "# 1) Best hyperparameters (from Optuna)\n",
    "# ======================================\n",
    "best_params = {\n",
    "    'learning_rate': 0.00013216020928849163,  # kept for reference; we override with per-group LRs below\n",
    "    'weight_decay': 8.692956783751181e-06,    # will override to 0.01\n",
    "    'patience': 2,\n",
    "    'batch_size': 64,\n",
    "    'num_layers': 3\n",
    "}\n",
    "EPOCHS = 15\n",
    "GRAD_CLIP_NORM = 1.0\n",
    "EVAL_EVERY_EPOCH = True\n",
    "SAVE_DIR = \"./final_15ep_checkpoints\"\n",
    "os.makedirs(SAVE_DIR, exist_ok=True)\n",
    "\n",
    "# ======================================\n",
    "# 2) Tokenizer, datasets, dataloaders\n",
    "# ======================================\n",
    "tokenizer = AutoTokenizer.from_pretrained(\"vinai/bertweet-large\", use_fast=False)\n",
    "\n",
    "# Assumes you already have TweetDataset(train_df, tokenizer) and TweetDataset(eval_df, tokenizer)\n",
    "train_dataset = TweetDataset(train_df, tokenizer)\n",
    "val_dataset   = TweetDataset(eval_df, tokenizer)\n",
    "\n",
    "train_loader = DataLoader(train_dataset, batch_size=best_params[\"batch_size\"], shuffle=True,  num_workers=2)\n",
    "val_loader   = DataLoader(val_dataset,   batch_size=best_params[\"batch_size\"], shuffle=False, num_workers=2)\n",
    "\n",
    "# ======================================\n",
    "# 3) Model + freezing policy\n",
    "# ======================================\n",
    "num_labels = 5  # adjust if needed\n",
    "model = AutoModelForSequenceClassification.from_pretrained(\n",
    "    \"vinai/bertweet-large\", num_labels=num_labels\n",
    ").to(device)\n",
    "\n",
    "# Optional: slightly stronger dropout for regularization\n",
    "model.config.attention_probs_dropout_prob = 0.15\n",
    "model.config.hidden_dropout_prob = 0.15\n",
    "\n",
    "# Freeze all encoder layers\n",
    "for p in model.roberta.parameters():\n",
    "    p.requires_grad = False\n",
    "\n",
    "# Unfreeze the last `num_layers` encoder blocks\n",
    "k = best_params[\"num_layers\"]\n",
    "for p in model.roberta.encoder.layer[-k:].parameters():\n",
    "    p.requires_grad = True\n",
    "\n",
    "# Always train the classifier head\n",
    "for p in model.classifier.parameters():\n",
    "    p.requires_grad = True\n",
    "\n",
    "# ======================================\n",
    "# 4) Loss, optimizer (AdamW, layer-wise LR), scheduler (warmup → cosine)\n",
    "# ======================================\n",
    "# Make sure class_weights_tensor exists and is on device\n",
    "# class_weights_tensor = class_weights_tensor.to(device)\n",
    "criterion = nn.CrossEntropyLoss(weight=class_weights_tensor)\n",
    "\n",
    "# Parameter groups: lower LR for encoder layers, higher LR for head\n",
    "enc_lastk_params = list(model.roberta.encoder.layer[-k:].parameters())\n",
    "head_params      = list(model.classifier.parameters())\n",
    "\n",
    "# Recommended LRs\n",
    "lr_enc  = 2e-5       # conservative for BERT layers\n",
    "lr_head = 2e-4       # classifier can be an order of magnitude higher\n",
    "\n",
    "optimizer = AdamW(\n",
    "    [\n",
    "        {\"params\": enc_lastk_params, \"lr\": lr_enc,  \"weight_decay\": 0.01},\n",
    "        {\"params\": head_params,      \"lr\": lr_head, \"weight_decay\": 0.01},\n",
    "    ],\n",
    "    betas=(0.9, 0.999),\n",
    "    eps=1e-8\n",
    ")\n",
    "\n",
    "# Warmup (10% steps) -> Cosine decay over remaining steps\n",
    "total_steps  = len(train_loader) * EPOCHS\n",
    "warmup_steps = max(1, int(0.10 * total_steps))\n",
    "\n",
    "warmup  = LinearLR(optimizer, start_factor=0.1, end_factor=1.0, total_iters=warmup_steps)\n",
    "cosine  = CosineAnnealingLR(optimizer, T_max=(total_steps - warmup_steps))\n",
    "scheduler = SequentialLR(optimizer, schedulers=[warmup, cosine], milestones=[warmup_steps])\n",
    "\n",
    "# Mixed precision\n",
    "scaler = torch.cuda.amp.GradScaler(enabled=torch.cuda.is_available())\n",
    "\n",
    "# ======================================\n",
    "# 5) Helper: evaluation\n",
    "# ======================================\n",
    "@torch.no_grad()\n",
    "def evaluate(model, data_loader, device):\n",
    "    model.eval()\n",
    "    all_preds, all_labels = [], []\n",
    "    total_loss = 0.0\n",
    "    for batch in data_loader:\n",
    "        input_ids      = batch[\"input_ids\"].to(device)\n",
    "        attention_mask = batch[\"attention_mask\"].to(device)\n",
    "        labels         = batch[\"labels\"].to(device)\n",
    "\n",
    "        with torch.cuda.amp.autocast(enabled=torch.cuda.is_available()):\n",
    "            outputs = model(input_ids=input_ids, attention_mask=attention_mask, labels=labels)\n",
    "            loss = outputs.loss\n",
    "\n",
    "        total_loss += loss.item() * input_ids.size(0)\n",
    "        preds = outputs.logits.argmax(dim=1)\n",
    "\n",
    "        all_preds.append(preds.detach().cpu().numpy())\n",
    "        all_labels.append(labels.detach().cpu().numpy())\n",
    "\n",
    "    all_preds  = np.concatenate(all_preds)\n",
    "    all_labels = np.concatenate(all_labels)\n",
    "    avg_loss   = total_loss / len(data_loader.dataset)\n",
    "    acc        = accuracy_score(all_labels, all_preds)\n",
    "    f1m        = f1_score(all_labels, all_preds, average=\"macro\")\n",
    "    return {\"val_loss\": avg_loss, \"val_acc\": acc, \"val_f1_macro\": f1m}\n",
    "\n",
    "# ======================================\n",
    "# 6) Training loop + Early Stopping\n",
    "# ======================================\n",
    "if USE_WANDB:\n",
    "    wandb.init(\n",
    "        project=WANDB_PROJECT,\n",
    "        name=RUN_NAME,\n",
    "        config=dict(best_params, epochs=EPOCHS, architecture=\"BERTweet-Large\", mode=\"non-HF\",\n",
    "                    lr_enc=lr_enc, lr_head=lr_head, wd=0.01, warmup_frac=0.10)\n",
    "    )\n",
    "    wandb.watch(model, log=\"all\", log_freq=200)\n",
    "\n",
    "best_path = os.path.join(SAVE_DIR, f\"best_model_{RUN_NAME}.pt\")\n",
    "\n",
    "best_val_loss = float(\"inf\")\n",
    "epochs_no_improve = 0\n",
    "min_delta = 1e-4  # improvement threshold for early stopping\n",
    "\n",
    "global_step = 0\n",
    "for epoch in range(1, EPOCHS + 1):\n",
    "    model.train()\n",
    "    running_loss = 0.0\n",
    "    pbar = tqdm(train_loader, desc=f\"Epoch {epoch}/{EPOCHS}\", leave=False)\n",
    "\n",
    "    for batch in pbar:\n",
    "        optimizer.zero_grad(set_to_none=True)\n",
    "\n",
    "        input_ids      = batch[\"input_ids\"].to(device)\n",
    "        attention_mask = batch[\"attention_mask\"].to(device)\n",
    "        labels         = batch[\"labels\"].to(device)\n",
    "\n",
    "        with torch.cuda.amp.autocast(enabled=torch.cuda.is_available()):\n",
    "            outputs = model(input_ids=input_ids, attention_mask=attention_mask, labels=labels)\n",
    "            loss = outputs.loss\n",
    "\n",
    "        scaler.scale(loss).backward()\n",
    "\n",
    "        # gradient clipping\n",
    "        scaler.unscale_(optimizer)\n",
    "        torch.nn.utils.clip_grad_norm_(model.parameters(), GRAD_CLIP_NORM)\n",
    "\n",
    "        scaler.step(optimizer)\n",
    "        scaler.update()\n",
    "\n",
    "        scheduler.step()\n",
    "\n",
    "        # track both param-group LRs\n",
    "        lr_enc_curr  = optimizer.param_groups[0][\"lr\"]\n",
    "        lr_head_curr = optimizer.param_groups[1][\"lr\"]\n",
    "        lr_history_enc.append(lr_enc_curr)\n",
    "        lr_history_head.append(lr_head_curr)\n",
    "\n",
    "        running_loss += loss.item() * input_ids.size(0)\n",
    "\n",
    "        global_step += 1\n",
    "        if USE_WANDB and global_step % 50 == 0:\n",
    "            wandb.log({\n",
    "                \"train/loss\": loss.item(),\n",
    "                \"train/lr_enc\": lr_enc_curr,\n",
    "                \"train/lr_head\": lr_head_curr,\n",
    "                \"step\": global_step,\n",
    "                \"epoch\": epoch\n",
    "            })\n",
    "\n",
    "    train_loss = running_loss / len(train_loader.dataset)\n",
    "\n",
    "    # Evaluate at epoch end\n",
    "    if EVAL_EVERY_EPOCH:\n",
    "        metrics = evaluate(model, val_loader, device)\n",
    "        val_loss = metrics[\"val_loss\"]\n",
    "        val_acc  = metrics[\"val_acc\"]\n",
    "        val_f1m  = metrics[\"val_f1_macro\"]\n",
    "\n",
    "        history[\"epoch\"].append(epoch)\n",
    "        history[\"train_loss\"].append(train_loss)\n",
    "        history[\"val_loss\"].append(val_loss)\n",
    "        history[\"val_acc\"].append(val_acc)\n",
    "        history[\"val_f1_macro\"].append(val_f1m)\n",
    "\n",
    "        if USE_WANDB:\n",
    "            wandb.log({\n",
    "                \"epoch\": epoch,\n",
    "                \"train/epoch_loss\": train_loss,\n",
    "                \"val/loss\": val_loss,\n",
    "                \"val/acc\": val_acc,\n",
    "                \"val/f1_macro\": val_f1m\n",
    "            })\n",
    "\n",
    "        # ---- Early stopping on val_loss ----\n",
    "        if val_loss < best_val_loss - min_delta:\n",
    "            best_val_loss = val_loss\n",
    "            epochs_no_improve = 0\n",
    "            torch.save({\n",
    "                \"model_state_dict\": model.state_dict(),\n",
    "                \"best_val_loss\": best_val_loss,\n",
    "                \"epoch\": epoch,\n",
    "                \"params\": best_params,\n",
    "                \"lr_enc\": lr_enc,\n",
    "                \"lr_head\": lr_head\n",
    "            }, best_path)\n",
    "        else:\n",
    "            epochs_no_improve += 1\n",
    "            if epochs_no_improve >= best_params[\"patience\"]:\n",
    "                print(f\"Early stopping at epoch {epoch} (no val_loss improvement for {best_params['patience']} epoch(s)).\")\n",
    "                break\n",
    "\n",
    "print(f\"Best val loss: {best_val_loss:.6f}\")\n",
    "print(f\"Best checkpoint saved to: {best_path}\")\n",
    "\n",
    "# ===== Plot 1: Accuracy over epochs =====\n",
    "plt.figure(figsize=(6,4))\n",
    "plt.plot(history[\"epoch\"], history[\"val_acc\"], marker=\"o\")\n",
    "plt.title(\"Validation Accuracy per Epoch\")\n",
    "plt.xlabel(\"Epoch\"); plt.ylabel(\"Accuracy\")\n",
    "plt.grid(True, linestyle=\"--\", linewidth=0.5)\n",
    "plt.tight_layout()\n",
    "plt.savefig(\"/kaggle/working/val_accuracy_per_epoch.png\", dpi=150)\n",
    "plt.show()\n",
    "\n",
    "# ===== Plot 2: Loss over epochs (train vs val) =====\n",
    "plt.figure(figsize=(6,4))\n",
    "plt.plot(history[\"epoch\"], history[\"train_loss\"], marker=\"o\", label=\"Train Loss\")\n",
    "plt.plot(history[\"epoch\"], history[\"val_loss\"],   marker=\"o\", label=\"Val Loss\")\n",
    "plt.title(\"Loss per Epoch\"); plt.xlabel(\"Epoch\"); plt.ylabel(\"Loss\")\n",
    "plt.legend(); plt.grid(True, linestyle=\"--\", linewidth=0.5)\n",
    "plt.tight_layout()\n",
    "plt.savefig(\"/kaggle/working/loss_per_epoch.png\", dpi=150)\n",
    "plt.show()\n",
    "\n",
    "# ===== Plot 3: Learning rates over steps (enc vs head) =====\n",
    "if len(lr_history_enc) > 0:\n",
    "    plt.figure(figsize=(6,4))\n",
    "    plt.plot(range(1, len(lr_history_enc)+1), lr_history_enc, label=\"enc_last_k LR\")\n",
    "    plt.plot(range(1, len(lr_history_head)+1), lr_history_head, label=\"head LR\")\n",
    "    plt.title(\"Learning Rate Schedule (per step)\")\n",
    "    plt.xlabel(\"Step\"); plt.ylabel(\"LR\")\n",
    "    plt.legend(); plt.grid(True, linestyle=\"--\", linewidth=0.5)\n",
    "    plt.tight_layout()\n",
    "    plt.savefig(\"/kaggle/working/lr_schedule.png\", dpi=150)\n",
    "    plt.show()\n",
    "\n",
    "print(\"Saved figures to:\",\n",
    "      \"/kaggle/working/val_accuracy_per_epoch.png,\",\n",
    "      \"/kaggle/working/loss_per_epoch.png,\",\n",
    "      \"/kaggle/working/lr_schedule.png\")\n",
    "\n",
    "if USE_WANDB:\n",
    "    wandb.finish()\n"
   ]
  }
 ],
 "metadata": {
  "kaggle": {
   "accelerator": "gpu",
   "dataSources": [
    {
     "datasetId": 8097202,
     "sourceId": 12806041,
     "sourceType": "datasetVersion"
    },
    {
     "isSourceIdPinned": true,
     "modelId": 431072,
     "modelInstanceId": 413334,
     "sourceId": 528345,
     "sourceType": "modelInstanceVersion"
    }
   ],
   "dockerImageVersionId": 31090,
   "isGpuEnabled": true,
   "isInternetEnabled": true,
   "language": "python",
   "sourceType": "notebook"
  },
  "kernelspec": {
   "display_name": "Python 3 (ipykernel)",
   "language": "python",
   "name": "python3"
  },
  "language_info": {
   "codemirror_mode": {
    "name": "ipython",
    "version": 3
   },
   "file_extension": ".py",
   "mimetype": "text/x-python",
   "name": "python",
   "nbconvert_exporter": "python",
   "pygments_lexer": "ipython3",
   "version": "3.11.7"
  }
 },
 "nbformat": 4,
 "nbformat_minor": 5
}
