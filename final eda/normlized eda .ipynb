{
 "cells": [
  {
   "cell_type": "code",
   "execution_count": 1,
   "id": "f5efe45b-cafd-4937-ae3f-9e962b53b589",
   "metadata": {},
   "outputs": [],
   "source": [
    "import os\n",
    "import pandas as pd\n",
    "import matplotlib.pyplot as plt\n",
    "import seaborn as sns\n",
    "import torch\n",
    "from torch.utils.data import DataLoader, Dataset\n",
    "from torch import nn, optim\n",
    "from sklearn.model_selection import train_test_split\n",
    "from pathlib import Path\n",
    "from sklearn.metrics import precision_score, recall_score, f1_score, accuracy_score\n"
   ]
  },
  {
   "cell_type": "code",
   "execution_count": 3,
   "id": "980b8f99-6378-4ef8-8f5f-2dbb924437cd",
   "metadata": {},
   "outputs": [
    {
     "data": {
      "text/plain": [
       "\"Love it or hate it, head advice @10DowningStreet & @BorisJohnson \\n\\nBlip in our lives but it's happening!\\n\\n?? Don't whinge about what you can't do \\n\\n?? Dont panic buy as food wont run out\\n\\n?? DO spend time with the family\\n\\n?? DO use common sense\\n\\n#coronavirus @WorldHealthOrg2\""
      ]
     },
     "execution_count": 3,
     "metadata": {},
     "output_type": "execute_result"
    }
   ],
   "source": [
    "df = pd.read_csv(r\"C:\\Users\\rabea\\Desktop\\deeppp\\Corona_NLP_train.csv\", encoding=\"latin1\")\n",
    "\n",
    "# שינוי שם עמודת הטקסט\n",
    "df = df.rename(columns={'OriginalTweet': 'Tweet'})\n",
    "from ftfy import fix_text\n",
    "\n",
    "text_cols = ['Tweet']  # adjust to your actual text columns\n",
    "for col in text_cols:\n",
    "    df[col] = df[col].astype(str).map(fix_text)\n",
    "df['Tweet'].iloc[81]"
   ]
  },
  {
   "cell_type": "code",
   "execution_count": 5,
   "id": "95d18714-4b1e-4180-ab91-033b92887b4d",
   "metadata": {},
   "outputs": [],
   "source": [
    "df['Tweet']=df['Tweet'].astype(str)\n",
    "df['Sentiment']=df['Sentiment'].astype(str)\n",
    "\n"
   ]
  },
  {
   "cell_type": "code",
   "execution_count": 7,
   "id": "d01c9dc4-90bd-4a1e-8903-56ad8d084ab1",
   "metadata": {},
   "outputs": [],
   "source": [
    "cols_to_drop = ['UserName','ScreenName','Location']\n",
    "df.drop(columns=cols_to_drop, inplace=True)"
   ]
  },
  {
   "cell_type": "code",
   "execution_count": 9,
   "id": "58dbfd65-95d7-4b4a-a443-e58d8e0eb4db",
   "metadata": {},
   "outputs": [
    {
     "data": {
      "text/plain": [
       "0    @MeNyrbie @Phil_Gahan @Chrisitv https://t.co/i...\n",
       "1    advice Talk to your neighbours family to excha...\n",
       "2    Coronavirus Australia: Woolworths to give elde...\n",
       "3    My food stock is not the only one which is emp...\n",
       "4    Me, ready to go at supermarket during the #COV...\n",
       "Name: Tweet, dtype: object"
      ]
     },
     "execution_count": 9,
     "metadata": {},
     "output_type": "execute_result"
    }
   ],
   "source": [
    "df['Tweet'].head()"
   ]
  },
  {
   "cell_type": "code",
   "execution_count": 11,
   "id": "09c687a7-951c-467a-b263-2455c4dbd9bd",
   "metadata": {},
   "outputs": [
    {
     "name": "stdout",
     "output_type": "stream",
     "text": [
      "🚮 Tweets dropped (more ? than letters): 30\n"
     ]
    }
   ],
   "source": [
    "# Count question marks\n",
    "df['QuestionMarkCount'] = df['Tweet'].str.count(r'\\?')\n",
    "\n",
    "# Count alphabetic letters only (A-Z and a-z)\n",
    "df['LetterCount'] = df['Tweet'].str.count(r'[A-Za-z]')\n",
    "\n",
    "# Drop tweets where ? > letters\n",
    "num_dropped = (df['QuestionMarkCount'] > df['LetterCount']).sum()\n",
    "print(f\"🚮 Tweets dropped (more ? than letters): {num_dropped}\")\n",
    "\n",
    "df = df[df['QuestionMarkCount'] <= df['LetterCount']].copy()"
   ]
  },
  {
   "cell_type": "code",
   "execution_count": 13,
   "id": "3966bfd1-0a69-4559-95ef-415e54a853ca",
   "metadata": {},
   "outputs": [],
   "source": [
    "from emoji import demojize\n",
    "from nltk.tokenize import TweetTokenizer\n",
    "\n",
    "\n",
    "tokenizer = TweetTokenizer()\n",
    "\n",
    "\n",
    "def normalizeToken(token):\n",
    "    lowercased_token = token.lower()\n",
    "    if token.startswith(\"@\"):\n",
    "        return \"@USER\"\n",
    "    elif lowercased_token.startswith(\"http\") or lowercased_token.startswith(\"www\"):\n",
    "        return \"HTTPURL\"\n",
    "    elif len(token) == 1:\n",
    "        return demojize(token)\n",
    "    else:\n",
    "        if token == \"’\":\n",
    "            return \"'\"\n",
    "        elif token == \"…\":\n",
    "            return \"...\"\n",
    "        else:\n",
    "            return token\n",
    "\n",
    "\n",
    "def normalizeTweet(tweet):\n",
    "    tokens = tokenizer.tokenize(tweet.replace(\"’\", \"'\").replace(\"…\", \"...\"))\n",
    "    normTweet = \" \".join([normalizeToken(token) for token in tokens])\n",
    "\n",
    "    normTweet = (\n",
    "        normTweet.replace(\"cannot \", \"can not \")\n",
    "        .replace(\"n't \", \" n't \")\n",
    "        .replace(\"n 't \", \" n't \")\n",
    "        .replace(\"ca n't\", \"can't\")\n",
    "        .replace(\"ai n't\", \"ain't\")\n",
    "    )\n",
    "    normTweet = (\n",
    "        normTweet.replace(\"'m \", \" 'm \")\n",
    "        .replace(\"'re \", \" 're \")\n",
    "        .replace(\"'s \", \" 's \")\n",
    "        .replace(\"'ll \", \" 'll \")\n",
    "        .replace(\"'d \", \" 'd \")\n",
    "        .replace(\"'ve \", \" 've \")\n",
    "    )\n",
    "    normTweet = (\n",
    "        normTweet.replace(\" p . m .\", \"  p.m.\")\n",
    "        .replace(\" p . m \", \" p.m \")\n",
    "        .replace(\" a . m .\", \" a.m.\")\n",
    "        .replace(\" a . m \", \" a.m \")\n",
    "    )\n",
    "\n",
    "    return \" \".join(normTweet.split())"
   ]
  },
  {
   "cell_type": "code",
   "execution_count": 17,
   "id": "f643fc47-b72f-4737-ae06-39e729b49a4c",
   "metadata": {},
   "outputs": [
    {
     "name": "stdout",
     "output_type": "stream",
     "text": [
      "                                                                                                                                                                                                                                                                                                                        Tweet  \\\n",
      "0                                                                                                                                                                                                             @MeNyrbie @Phil_Gahan @Chrisitv https://t.co/iFz9FAn2Pa and https://t.co/xX6ghGFzCC and https://t.co/I2NlzdxNo8   \n",
      "1                                                                               advice Talk to your neighbours family to exchange phone numbers create contact list with phone numbers of neighbours schools employer chemist GP set up online shopping accounts if poss adequate supplies of regular meds but not over order   \n",
      "2                                                                                                                                                                                         Coronavirus Australia: Woolworths to give elderly, disabled dedicated shopping hours amid COVID-19 outbreak https://t.co/bInCA9Vp8P   \n",
      "3     My food stock is not the only one which is empty...\\n\\n\\n\\nPLEASE, don't panic, THERE WILL BE ENOUGH FOOD FOR EVERYONE if you do not take more than you need. \\n\\nStay calm, stay safe.\\n\\n\\n\\n#COVID19france #COVID_19 #COVID19 #coronavirus #confinement #Confinementotal #ConfinementGeneral https://t.co/zrlG0Z520j   \n",
      "4  Me, ready to go at supermarket during the #COVID19 outbreak.\\n\\n\\n\\nNot because I'm paranoid, but because my food stock is litteraly empty. The #coronavirus is a serious thing, but please, don't panic. It causes shortage...\\n\\n\\n\\n#CoronavirusFrance #restezchezvous #StayAtHome #confinement https://t.co/usmuaLq72n   \n",
      "5                                                                   As news of the region's first confirmed COVID-19 case came out of Sullivan County last week, people flocked to area stores to purchase cleaning supplies, hand sanitizer, food, toilet paper and other goods, @Tim_Dodson reports https://t.co/cfXch7a2lU   \n",
      "6                                                                                                                                        Cashier at grocery store was sharing his insights on #Covid_19 To prove his credibility he commented \"I'm in Civics class so I know what I'm talking about\". https://t.co/ieFDNeHgDO   \n",
      "7                                                                                                                                                                                                   Was at the supermarket today. Didn't buy toilet paper. #Rebel\\n\\n\\n\\n#toiletpapercrisis #covid_19 https://t.co/eVXkQLIdAZ   \n",
      "8                                    Due to COVID-19 our retail store and classroom in Atlanta will not be open for walk-in business or classes for the next two weeks, beginning Monday, March 16.  We will continue to process online and phone orders as normal! Thank you for your understanding! https://t.co/kw91zJ5O5i   \n",
      "9                                                 For corona prevention,we should stop to buy things with the cash and should use online payment methods because corona can spread through the notes. Also we should prefer online shopping from our home. It's time to fight against COVID 19?. #govindia #IndiaFightsCorona   \n",
      "\n",
      "                                                                                                                                                                                                                                                                                         normalized_tweet  \n",
      "0                                                                                                                                                                                                                                                       @USER @USER @USER HTTPURL and HTTPURL and HTTPURL  \n",
      "1                                                           advice Talk to your neighbours family to exchange phone numbers create contact list with phone numbers of neighbours schools employer chemist GP set up online shopping accounts if poss adequate supplies of regular meds but not over order  \n",
      "2                                                                                                                                                                                 Coronavirus Australia : Woolworths to give elderly , disabled dedicated shopping hours amid COVID - 19 outbreak HTTPURL  \n",
      "3            My food stock is not the only one which is empty ... PLEASE , do n't panic , THERE WILL BE ENOUGH FOOD FOR EVERYONE if you do not take more than you need . Stay calm , stay safe . #COVID19france #COVID_19 #COVID19 #coronavirus #confinement #Confinementotal #ConfinementGeneral HTTPURL  \n",
      "4  Me , ready to go at supermarket during the #COVID19 outbreak . Not because I 'm paranoid , but because my food stock is litteraly empty . The #coronavirus is a serious thing , but please , do n't panic . It causes shortage ... #CoronavirusFrance #restezchezvous #StayAtHome #confinement HTTPURL  \n",
      "5                                                             As news of the region 's first confirmed COVID - 19 case came out of Sullivan County last week , people flocked to area stores to purchase cleaning supplies , hand sanitizer , food , toilet paper and other goods , @USER reports HTTPURL  \n",
      "6                                                                                                                               Cashier at grocery store was sharing his insights on #Covid_19 To prove his credibility he commented \" I 'm in Civics class so I know what I 'm talking about \" . HTTPURL  \n",
      "7                                                                                                                                                                                                   Was at the supermarket today . Did n't buy toilet paper . #Rebel #toiletpapercrisis #covid_19 HTTPURL  \n",
      "8                          Due to COVID - 19 our retail store and classroom in Atlanta will not be open for walk-in business or classes for the next two weeks , beginning Monday , March 16 . We will continue to process online and phone orders as normal ! Thank you for your understanding ! HTTPURL  \n",
      "9                      For corona prevention , we should stop to buy things with the cash and should use online payment methods because corona can spread through the notes . Also we should prefer online shopping from our home . It 's time to fight against COVID 19 ? . #govindia #IndiaFightsCorona  \n"
     ]
    }
   ],
   "source": [
    "import pandas as pd\n",
    "pd.set_option(\"display.max_colwidth\", None)\n",
    "# Example: assume df has a column called 'Tweet'\n",
    "# (replace with the actual column name in your dataset)\n",
    "\n",
    "# Apply your normalization function to the whole column\n",
    "df['normalized_tweet'] = df['Tweet'].astype(str).apply(normalizeTweet)\n",
    "\n",
    "# Check the first few rows\n",
    "print(df[['Tweet', 'normalized_tweet']].head(10))"
   ]
  },
  {
   "cell_type": "code",
   "execution_count": 19,
   "id": "933ebbf9-94ef-4aaa-826a-f6e7b8effd4e",
   "metadata": {},
   "outputs": [
    {
     "data": {
      "text/plain": [
       "\"Love it or hate it, head advice @10DowningStreet & @BorisJohnson \\n\\nBlip in our lives but it's happening!\\n\\n?? Don't whinge about what you can't do \\n\\n?? Dont panic buy as food wont run out\\n\\n?? DO spend time with the family\\n\\n?? DO use common sense\\n\\n#coronavirus @WorldHealthOrg2\""
      ]
     },
     "execution_count": 19,
     "metadata": {},
     "output_type": "execute_result"
    }
   ],
   "source": [
    "df['Tweet'].iloc[80]\n"
   ]
  },
  {
   "cell_type": "code",
   "execution_count": 25,
   "id": "e3629626-d111-49bd-98ad-293eb7cbb180",
   "metadata": {},
   "outputs": [
    {
     "name": "stdout",
     "output_type": "stream",
     "text": [
      "['Love', 'it', 'or', 'hate', 'it', ',', 'head', 'advice', '@USER', '&', '@USER', 'B@@', 'lip', 'in', 'our', 'lives', 'but', 'it', \"'s\", 'happening', '!', '?', '?', 'Do', \"n't\", 'wh@@', 'inge', 'about', 'what', 'you', \"can't\", 'do', '?', '?', 'Dont', 'panic', 'buy', 'as', 'food', 'wont', 'run', 'out', '?', '?', 'DO', 'spend', 'time', 'with', 'the', 'family', '?', '?', 'DO', 'use', 'common', 'sense', '#coronavirus', '@USER']\n"
     ]
    }
   ],
   "source": [
    "from transformers import AutoTokenizer\n",
    "\n",
    "tweet = normalizeTweet(df['Tweet'].iloc[80])\n",
    "\n",
    "bertweet_tokenizer = AutoTokenizer.from_pretrained(\"vinai/bertweet-base\", use_fast=False)\n",
    "\n",
    "tokens = bertweet_tokenizer.tokenize(tweet)\n",
    "\n",
    "print(tokens)"
   ]
  },
  {
   "cell_type": "code",
   "execution_count": 27,
   "id": "6ff3fe18-3b12-421d-8da0-afe91d13ef61",
   "metadata": {},
   "outputs": [
    {
     "name": "stdout",
     "output_type": "stream",
     "text": [
      "Series([], dtype: int64)\n"
     ]
    }
   ],
   "source": [
    "missing = df.isnull().sum()\n",
    "print(missing[missing > 0].sort_values(ascending=False))"
   ]
  },
  {
   "cell_type": "code",
   "execution_count": 31,
   "id": "f0d68885-d063-492e-a852-15a6cd77a857",
   "metadata": {},
   "outputs": [
    {
     "name": "stdout",
     "output_type": "stream",
     "text": [
      "Duplicate rows in df set: 35\n"
     ]
    }
   ],
   "source": [
    "print(\"Duplicate rows in df set:\", df['normalized_tweet'].duplicated().sum())"
   ]
  },
  {
   "cell_type": "code",
   "execution_count": 33,
   "id": "4b558fc7-a965-4e67-8957-e1a920f8c4dd",
   "metadata": {},
   "outputs": [
    {
     "name": "stdout",
     "output_type": "stream",
     "text": [
      "\n",
      "Duplicate tweet: @USER @USER @USER @USER @USER @USER @USER @USER @USER @USER @USER @USER @USER @USER @USER @USER @USER @USER @USER\n",
      "['@olson_jessie @NashTerrance @MccrorieJim @ArmyVet1775 @rogerscarmen @AliM20698746 @jimbo_always @bill_wrights @ddcampassr @JewelsJones1 @real_pat_henry @WeSeeYouWeKnow @____54_____ @RandallKraft @DatoFreddy @LennyInnecken6 @SanMateogirl11 @brandyls76 @Spa'\n",
      " '@SnapeyWapey @d_ast777 @Chrissy_Clarke @halo_scot @blackwell_dgf @DellOlioMario @AstralWarriorVT @CornerWriting @tracyjh8 @GeorgeYuhasz @StephenKing @honeycakebooks @WriteEthan @magnolia3169 @AlexaSommers @DanielaRLovejoy @nikki_twisted @MKBeker @AJUrbane'\n",
      " '@unwitod @intersexfacts @vb02md @RadFemme74 @EReality01 @Jesin00 @babybeginner @feministleaning @PheeberWeaver @CaseyRHayes @JenkinsSharing @Technicallyowen @ForeverMagdalen @ILoveUTigerLily @EmilyBanting1 @Annie26056655 @catdebuque @sclibearian @LisaTMul'\n",
      " '@MarilynLavala @77MARKALLENSOVA @kay89266490 @Consofcooking1 @MountainAjax @MsDayglo @ruxcytbl @McginnKeven @Schanette55 @davidf4444 @dvorakfilms @WhimsicalMeToo @HorseShort @RosaleeAdams @establishmentno @freedom_gal @atlantis000000 @__CassidyRae__ @Jane'\n",
      " '@surewrap @Savitritvs @KEYESEN2000 @shytigress @WishMaster2019 @J_o_l_i_e @IndiaKaPrahari @dharmvirjangra9 @gouranga1964 @RulesElsa @URRao10 @Kumaran92023000 @JaganNKaushik @venkatarat @nalini51purohit @GenDADange @narendravarma49 @nutan_jyot @Drsunandamb'\n",
      " '@nicolasnicola22 @ChunhuaMs @Aussieneets @RussellMoxham @debbie_spirit @griffjane @orangulandtrust @orangutans @WildlingRocks @Ness4612R @samcoyi @DrBirute @coolrunning2009 @BlueSeas111 @RedFoxGIS @EmilyLe89720714 @orangutan2 @RedOrangutangen @ForestPeopl']\n",
      "\n",
      "Duplicate tweet: @USER Wells Fargo is committed to helping customers experiencing hardships from COVID - 19 . If in need of assistance , customers can call 1-800-219-9739 to speak with a trained specialist about options available for their consumer lending , small b\n",
      "['@standwithPrager Wells Fargo is committed to helping customers experiencing hardships from COVID-19. If in need of assistance, customers can call 1-800-219-9739 to speak with a trained specialist about options available for their consumer lending, small b'\n",
      " '@TheIndigoAuthor Wells Fargo is committed to helping customers experiencing hardships from COVID-19. If in need of assistance, customers can call 1-800-219-9739 to speak with a trained specialist about options available for their consumer lending, small b'\n",
      " '@debbie_marney41 Wells Fargo is committed to helping customers experiencing hardships from COVID-19. If in need of assistance, customers can call 1-800-219-9739 to speak with a trained specialist about options available for their consumer lending, small b']\n",
      "\n",
      "Duplicate tweet: @USER Wells Fargo is committed to helping customers experiencing hardships from COVID - 19 . If in need of assistance , customers can call 1-800-219-9739 to speak with a trained specialist about options available for their consumer lending , small busi\n",
      "['@KariLeeAK907 Wells Fargo is committed to helping customers experiencing hardships from COVID-19. If in need of assistance, customers can call 1-800-219-9739 to speak with a trained specialist about options available for their consumer lending, small busi'\n",
      " '@mayorportman Wells Fargo is committed to helping customers experiencing hardships from COVID-19. If in need of assistance, customers can call 1-800-219-9739 to speak with a trained specialist about options available for their consumer lending, small busi'\n",
      " '@James_Ehlers Wells Fargo is committed to helping customers experiencing hardships from COVID-19. If in need of assistance, customers can call 1-800-219-9739 to speak with a trained specialist about options available for their consumer lending, small busi']\n",
      "\n",
      "Duplicate tweet: @USER @USER @USER @USER @USER @USER @USER @USER @USER @USER @USER @USER @USER @USER @USER @USER @USER @USER @USER @USER\n",
      "['@carlquintanilla @SquawkCNBC @BeckyQuick @andrewrsorkin @NewDay @kaitlancollins @FoxBusinessAM @MorningsMaria @cspanwj @KremlinRussia_E @SquawkStreet @MedvedevRussiaE @KSAmofaEN @KingSalman @SecPompeo @jimcramer @davidfaber @WhiteHouse @CNBCClosingBell @f'\n",
      " '@KEYESEN2000 @nutan_jyot @nalini51purohit @shytigress @BHARATMACHINE99 @GenDADange @dharmvirjangra9 @Drsunandambal @Savitritvs @GenPanwar @Bharatwashi1 @NaniBellary @gouranga1964 @SethiVed @WishMaster2019 @JaganNKaushik @sinhrann @RulesElsa @J_o_l_i_e @ve'\n",
      " '@SorinsSomnium @Communist_Dog @Harriet86108004 @sandcrapper @mdveritas @la_gata_negra17 @AMeowly @Cigarvolante @GhostRollo @MDCRT16 @evil_bastard @Mikey_B_2A @reageltip420 @ricklundl @ColtRight @_shareifwoke @woodrowdrobert @LuckyCharms1961 @ShawnGrams @K'\n",
      " '@gamentio2 @india4contests @ContestHandle @thefreejinn @Contest_Alert @ContestsInIndia @Contest_Hub @Contesttable @ContestAlert_ @contest_world @ContestMela @PritiNivoriya @pari0275 @sengodan4 @VHetal @godsowntalk @AbhishekIPLFeak @Sanjiv_34 @misty_basu @'\n",
      " '@JaganNKaushik @sn_ojha @Surindernath1 @URRao10 @vera_anz @RakeshA12572734 @surewrap @purushueme @muralydoctrack1 @nutan_jyot @johnygorkha @Sudhakar2810 @nparama1951 @drvinaypuri @ind_rajat92 @gouranga1964 @raghu500000 @jyotsnadevi33 @rajbir2728 @singhsan']\n",
      "\n",
      "Duplicate tweet: Scammers often prey on people in the most difficult situations If you re contacted by someone offering to recover your money for an event or a holiday look out for the signs of a potential\n",
      "['Scammers often prey on people in the most difficult situations If you re contacted by someone offering to recover your money for an event or a holiday look out for the signs of a potential'\n",
      " 'Scammers often prey on people in the most difficult situations If you re contacted by someone offering to recover your money for an event or a holiday look out for the signs of a potential  ']\n",
      "\n",
      "Duplicate tweet: \" Just as these politics have delayed the necessary responses to climate breakdown , ecological collapse , air and water pollution , obesity and consumer debt , so they appear to have delayed the effective containment of Covid - 19 . \" HTTPURL\n",
      "['\"Just as these politics have delayed the necessary responses to climate breakdown, ecological collapse, air and water pollution, obesity and consumer debt, so they appear to have delayed the effective containment of Covid-19.\" https://t.co/0UMiTbBhro'\n",
      " '\"Just as these politics have delayed the necessary responses to climate breakdown, ecological collapse, air and water pollution, obesity and consumer debt, so they appear to have delayed the effective containment of Covid-19.\" https://t.co/c3V4MDeLSX']\n",
      "\n",
      "Duplicate tweet: Our life really changed about the middle of last week to be really honest with you said South Michigan Food Bank CEO Peter Vogel The demand on food from us has been really dramatic\n",
      "[' Our life really changed about the middle of last week to be really honest with you said South Michigan Food Bank CEO Peter Vogel The demand on food from us has been really dramatic  '\n",
      " '  Our life really changed about the middle of last week to be really honest with you said South Michigan Food Bank CEO Peter Vogel The demand on food from us has been really dramatic  ']\n",
      "\n",
      "Duplicate tweet: 19 for this too shall pass\n",
      "['19 for this too shall pass  ' '19 for this too shall pass']\n",
      "\n",
      "Duplicate tweet: 19 Get protected face masks on stock regular prices\n",
      "['19 Get protected face masks on stock  regular prices'\n",
      " '19 Get protected  face masks on stock regular prices']\n",
      "\n",
      "Duplicate tweet: With oil prices falling amid the COVID 19 recession it s the beginning of the end for fracking\n",
      "['With oil prices falling amid the COVID 19 recession it s the beginning of the end for fracking  '\n",
      " 'With oil prices falling amid the COVID 19 recession it s the beginning of the end for fracking']\n",
      "\n",
      "Duplicate tweet: @USER Wells Fargo is committed to helping customers experiencing hardships from COVID - 19 . If in need of assistance , customers can call 1-800-219-9739 to speak with a trained specialist about options available for their consumer lending , small busine\n",
      "['@yvette_joc Wells Fargo is committed to helping customers experiencing hardships from COVID-19. If in need of assistance, customers can call 1-800-219-9739 to speak with a trained specialist about options available for their consumer lending, small busine'\n",
      " '@chad_aston Wells Fargo is committed to helping customers experiencing hardships from COVID-19. If in need of assistance, customers can call 1-800-219-9739 to speak with a trained specialist about options available for their consumer lending, small busine']\n",
      "\n",
      "Duplicate tweet: Email is on the front lines of consumer communications regarding COVID - 19 . Explore four approaches @USER ' s email marketing experts suggest you keep top-of-mind as you send coronavirus-related messages through email . HTTPURL HTTPURL\n",
      "[\"Email is on the front lines of consumer communications regarding COVID-19. Explore four approaches @DEGdigital's email marketing experts suggest you keep top-of-mind as you send coronavirus-related messages through email. https://t.co/NCPiGdw7lz https://t.co/dNTcLewU9T\"\n",
      " \"Email is on the front lines of consumer communications regarding COVID-19. Explore four approaches @DEGdigital's email marketing experts suggest you keep top-of-mind as you send coronavirus-related messages through email. https://t.co/rDwHTYFj5P https://t.co/Ka5PFUYenF\"]\n",
      "\n",
      "Duplicate tweet: @USER @USER @USER @USER @USER @USER @USER @USER @USER @USER @USER @USER @USER @USER @USER @USER @USER @USER @USER @USER @USER\n",
      "['@twigliot @DreaVilleneuve @tedbauer2003 @TheComicHunter @biggreenpen @MrLexJay @JimCanto @ideabloke @JoelRRenner @GabrielSurfCat @BrendaMKramer @YEPBusiness @katyb_spencer @joshmccormack @Renoe @bikespoke @nplusg @MattJ_O @plainwildcatfan @johndburger @ho'\n",
      " '@Jaisans @JamesRider3 @AanthanurDC @doom37455413 @ILuvCO2 @Andrewemcameron @geoffmprice @ElectroPig @glinch72 @IngersolRobert @AgtRigor @Bitakarma @AtomsksSanakan @DevinNunesGoat1 @Article3S @Jamz129 @rm_simmons @RustyAway @JosephsEddy @MikeH_MapleGrov @i'\n",
      " '@ThomONeil1 @bobbiejaneV @media_auntie @BonJS0370 @ldog562 @zazzybritches @pecriel @kristyshl @HurricaneEve81 @MaryHow16 @SafiMaasai @alice4u2010 @ReneTremblay13 @stweetleigh @poppij @Dianne2429 @paulinef136 @mccunecicki @TilghmanChris @StaryStaryNlght @b']\n",
      "\n",
      "Duplicate tweet: #Coronavirus ' latest casualty : Consumer confidence via @USER HTTPURL #FlaPol HTTPURL\n",
      "[\"#Coronavirus' latest casualty: Consumer confidence via @AGGancarski https://t.co/h5S38HWdlE #FlaPol https://t.co/pkphPoxRpN\"\n",
      " \"#Coronavirus' latest casualty: Consumer confidence via @Fla_Pol https://t.co/W0dcgTtpZ3 #FlaPol https://t.co/9omXFO8ZYb\"]\n",
      "\n",
      "Duplicate tweet: #COVID ? 19 protection face mask stock in ? ? regular prices HTTPURL #COVID19 #TrumpPlague #StayHome #StaySafeStayHome #facemasks #Netflix #coronavirus #TrumpOwnsEveryDeath #NewYork #NewJersey #Trending #HealthcareHeroes #healthcare #WuhanVirus #ChinaLiedPeopleDied HTTPURL\n",
      "['#COVID?19 protection face mask stock in ?? regular prices\\n\\nhttps://t.co/oCOHRBNDM9\\n\\n#COVID19 #TrumpPlague #StayHome #StaySafeStayHome #facemasks #Netflix #coronavirus #TrumpOwnsEveryDeath #NewYork #NewJersey #Trending #HealthcareHeroes #healthcare #WuhanVirus #ChinaLiedPeopleDied https://t.co/HYYOVn8GJI'\n",
      " '#COVID?19 protection face mask stock in ??regular prices\\n\\nhttps://t.co/oCOHRBNDM9\\n\\n#COVID19 #TrumpPlague #StayHome #StaySafeStayHome #facemasks #Netflix #coronavirus #TrumpOwnsEveryDeath #NewYork #NewJersey #Trending #HealthcareHeroes #healthcare #WuhanVirus #ChinaLiedPeopleDied https://t.co/MvQhQHQbvD']\n",
      "\n",
      "Duplicate tweet: \" Because of the fractured federal response to COVID - 19 , state governors say they 're now bidding against federal agencies and each other for scarce supplies , driving up prices . \" HTTPURL\n",
      "['\"Because of the fractured federal response to COVID-19, state governors say they\\'re now bidding against federal agencies and each other for scarce supplies, driving up prices.\"\\n\\n\\n\\nhttps://t.co/PUkDBR8L84'\n",
      " '\"Because of the fractured federal response to COVID-19, state governors say they\\'re now bidding against federal agencies and each other for scarce supplies, driving up prices.\" https://t.co/TSpMxfmOYF']\n",
      "\n",
      "Duplicate tweet: To get through this together we must all stay apart means you can still go to the grocery store as long as you re not in mandatory isolation or quarantine but limit it to once per week Otherwise\n",
      "['To get through this together we must all stay apart means you can still go to the grocery store as long as you re not in mandatory isolation or quarantine but limit it to once per week Otherwise  '\n",
      " 'To get through this together we must all stay apart means you can still go to the grocery store  as long as you re not in mandatory isolation or quarantine but limit it to once per week Otherwise'\n",
      " 'To get through this together we must all stay apart means you can still go to the grocery store as long as you re not in mandatory isolation or quarantine but limit it to once per week Otherwise']\n",
      "\n",
      "Duplicate tweet: With milk prices plunging to lows dairy farmers are dumping the product to curb an oversupply during the lockdown More\n",
      "['  With milk prices plunging to lows dairy farmers are dumping the product to curb an oversupply during the lockdown More'\n",
      " 'With milk prices plunging to lows dairy farmers are dumping the product to curb an oversupply during the lockdown More']\n",
      "\n",
      "Duplicate tweet: All hands on deck Grocery store executives get a taste of the hard life on coronavirus front lines\n",
      "[' All hands on deck  Grocery store executives get a taste of the hard life on coronavirus front lines'\n",
      " 'All hands on deck Grocery store executives get a taste of the hard life on coronavirus front lines']\n",
      "\n",
      "Duplicate tweet: @USER @USER #Covid_19 a horrible time where contact by phone to family is more important than ever . @USER response hey lets raise our prices . #vodafone #ripoff @USER @USER HTTPURL\n",
      "['@VodafoneGroup @Vodafone_HU #Covid_19 a horrible time where contact by phone to family is more important than ever. @VodafoneUK response hey lets raise our prices. #vodafone #ripoff @vodafoneuknews @VodafoneGroup https://t.co/eUWWUN6IiW'\n",
      " '@VodafoneUK @NHSuk #Covid_19 a horrible time where contact by phone to family is more important than ever. @VodafoneUK response hey lets raise our prices. #vodafone #ripoff @vodafoneuknews @VodafoneGroup https://t.co/eUWWUN6IiW']\n",
      "\n",
      "Duplicate tweet: With the COVID 19 pandemic ongoing many people are nervous about going to the grocery store An old tradition is seeing an uptick in business the milkman\n",
      "['With the COVID 19 pandemic ongoing many people are nervous about going to the grocery store An old tradition is seeing an uptick in business the milkman'\n",
      " 'With the COVID 19 pandemic ongoing many people are nervous about going to the grocery store An old tradition is seeing an uptick in business the milkman  '\n",
      " 'With the COVID 19 pandemic ongoing many people are nervous about going to the grocery store An old tradition is seeing an uptick in business   the milkman']\n",
      "\n",
      "Duplicate tweet: With milk prices plunging to lows dairy cooperatives are dumping the product to curb an oversupply during the lockdown More\n",
      "['With milk prices plunging to lows dairy cooperatives are dumping the product to curb an oversupply during the lockdown More'\n",
      " '  With milk prices plunging to lows dairy cooperatives are dumping the product to curb an oversupply during the lockdown More']\n",
      "\n",
      "Duplicate tweet: Remember if anyone in your household shows symptoms that may be Coronavirus then you MUST all stay at home That means no one goes to the supermarket or for walks outside Everyone stays in and follows these rules\n",
      "['Remember if anyone in your household shows symptoms that may be Coronavirus then you MUST all stay at home That means no one goes to the supermarket or for walks outside Everyone stays in and follows these rules'\n",
      " ' Remember if anyone in your household shows symptoms that may be Coronavirus then you MUST all stay at home That means no one goes to the supermarket or for walks outside Everyone stays in and follows these rules']\n"
     ]
    }
   ],
   "source": [
    "dupes = df['normalized_tweet'][df['normalized_tweet'].duplicated(keep=False)]\n",
    "for t in dupes.unique():\n",
    "    print(\"\\nDuplicate tweet:\", t)\n",
    "    print(df[df['normalized_tweet'] == t]['Tweet'].values)\n"
   ]
  },
  {
   "cell_type": "code",
   "execution_count": 35,
   "id": "f4d8ec87-9c88-4fe5-bb78-d8dd2bb530a9",
   "metadata": {},
   "outputs": [
    {
     "name": "stdout",
     "output_type": "stream",
     "text": [
      "Removed 35 exact duplicate rows.\n"
     ]
    }
   ],
   "source": [
    "before = len(df)\n",
    "df = df.drop_duplicates(subset=['normalized_tweet'], keep='first').reset_index(drop=True)\n",
    "print(f\"Removed {before - len(df)} exact duplicate rows.\")"
   ]
  },
  {
   "cell_type": "code",
   "execution_count": 41,
   "id": "65a45113-ca9c-42c4-8c4f-39d377b8fb77",
   "metadata": {},
   "outputs": [
    {
     "name": "stdout",
     "output_type": "stream",
     "text": [
      "🌐 Example Non-English Tweets (showing 20):\n",
      "\n",
      "1. @USER @USER @USER @USER @USER @USER @USER @USER @USER @USER @USER @USER @USER @USER @USER @USER @USER @USER @USER\n",
      "\n",
      "2. Student resources during COVID - 19 HTTPURL\n",
      "\n",
      "3. Une centaine de personnes se pressent aux portes d'un supermarché à Saint-Denis , en banlieue parisienne , au lendemain de l'annonce du Président Macron renforçant les restrictions de déplacement face au #covid_19 #AFP HTTPURL\n",
      "\n",
      "4. Esto es un Carrefour antes de abrir . ¡ ¡ ¡ Viva las personas ! ! ! #YoMeQuedoEnCasa HTTPURL\n",
      "\n",
      "5. This is just madness ! ! HTTPURL\n",
      "\n",
      "6. For more updates , visit HTTPURL HTTPURL\n",
      "\n",
      "7. La fin du monde ? ? HTTPURL\n",
      "\n",
      "8. Zásah policie proti spekulant ? m s rouškami . Na m ? j popud hejtman Ústeckého kraje ve spolupráci s @USER podle krizového zákona zajistil tém ? ? 700 tis . roušek od firmy , která je m ? la dodat na zdravotník ? m , ale na poslední chvíli se snažila navyšovat cenu . #spolutozvladneme\n",
      "\n",
      "9. ILKESTON ROAD RADFORD SHOP RIPPING PUBLIC OFF PARACETAMOL and SANITIZER + 10.99 WARNING DO NOT SHOP HERE .. ABSOLUTELY DISGUSTING HTTPURL\n",
      "\n",
      "10. COVID - 19 Supermarket Sweep HTTPURL\n",
      "\n",
      "11. @USER @USER @USER @USER @USER @USER @USER @USER @USER @USER @USER @USER @USER @USER @USER @USER @USER @USER @USER @USER\n",
      "\n",
      "12. Bulletin 2020-1 : Coverage for COVID - 19 HTTPURL HTTPURL\n",
      "\n",
      "13. Its good if our government can provide hand sanitizer mask amp tissues for everyone who going out to buying something groceries at supermarket amp etc yang ramai orang for sure artis Malaysia yang banyak duit bolelah sumbangkan sedikit untuk pembelian mask amp etc\n",
      "\n",
      "14. Almost desert supermarket , many empty shelves . #Covid_19 #COVID2019pt #quarentena HTTPURL\n",
      "\n",
      "15. STRONG & UNITED , WE WILL PREVAIL ! HTTPURL\n",
      "\n",
      "16. Managing COVID - 19 Disruption HTTPURL #Insurance\n",
      "\n",
      "17. Supermarket share prices provide potential haven amid market selloff ? ? ? #COVID2019 #markets HTTPURL HTTPURL\n",
      "\n",
      "18. Grocery store sales skyrocket as COVID - 19 spreads . HTTPURL\n",
      "\n",
      "19. Oil prices at $ 23.18 #Oilprices #coronavirus\n",
      "\n",
      "20. @USER Agar main delhi main kisi se station main milne jau toh mujhe kaha se milega 50 ka tkt ?\n",
      "\n"
     ]
    }
   ],
   "source": [
    "from langdetect import detect, DetectorFactory\n",
    "import pandas as pd\n",
    "\n",
    "# Step 1: Ensure reproducibility (langdetect is nondeterministic by default)\n",
    "DetectorFactory.seed = 0\n",
    "\n",
    "# Step 2: Define a function to detect language\n",
    "def detect_language(text):\n",
    "    try:\n",
    "        return detect(text)\n",
    "    except:\n",
    "        return \"error\"\n",
    "\n",
    "# Step 3: Apply language detection on the tweets (no modification!)\n",
    "df['DetectedLang'] = df['normalized_tweet'].apply(detect_language)\n",
    "\n",
    "# Step 4: Filter and show non-English tweets\n",
    "non_english_tweets = df[df['DetectedLang'] != 'en']\n",
    "\n",
    "print(\"🌐 Example Non-English Tweets (showing 20):\\n\")\n",
    "for i, tweet in enumerate(non_english_tweets['normalized_tweet'].head(20), 1):\n",
    "    print(f\"{i}. {tweet}\\n\")"
   ]
  },
  {
   "cell_type": "code",
   "execution_count": 43,
   "id": "24e0cb4c-40a3-4800-9c41-b31545e39452",
   "metadata": {},
   "outputs": [
    {
     "data": {
      "text/plain": [
       "188"
      ]
     },
     "execution_count": 43,
     "metadata": {},
     "output_type": "execute_result"
    }
   ],
   "source": [
    "non_english_tweets['normalized_tweet'].count()"
   ]
  },
  {
   "cell_type": "code",
   "execution_count": 47,
   "id": "ccb650b7-74ea-45a2-866d-571493b495c4",
   "metadata": {},
   "outputs": [
    {
     "name": "stderr",
     "output_type": "stream",
     "text": [
      "Tokenizing: 100%|██████████| 41092/41092 [00:23<00:00, 1724.59it/s]\n"
     ]
    },
    {
     "name": "stdout",
     "output_type": "stream",
     "text": [
      "count    41092.000000\n",
      "mean        47.060547\n",
      "std         17.024877\n",
      "min          3.000000\n",
      "25%         34.000000\n",
      "50%         48.000000\n",
      "75%         60.000000\n",
      "max        140.000000\n",
      "dtype: float64\n",
      "\n",
      "Percentiles:\n",
      "50th percentile: 48\n",
      "75th percentile: 60\n",
      "90th percentile: 68\n",
      "95th percentile: 73\n",
      "99th percentile: 85\n",
      "100th percentile: 140\n"
     ]
    },
    {
     "data": {
      "image/png": "[encoded data removed]",
      "text/plain": [
       "<Figure size 800x500 with 1 Axes>"
      ]
     },
     "metadata": {},
     "output_type": "display_data"
    }
   ],
   "source": [
    "import pandas as pd\n",
    "import matplotlib.pyplot as plt\n",
    "from transformers import AutoTokenizer\n",
    "from tqdm import tqdm\n",
    "\n",
    "# 1) Load tokenizer\n",
    "tokenizer = AutoTokenizer.from_pretrained(\"vinai/bertweet-large\", use_fast=False)\n",
    "\n",
    "# 2) Column to check (use your cleaned column)\n",
    "text_col = \"normalized_tweet\"  # replace with the name of your cleaned text column\n",
    "\n",
    "# 3) Get tokenized lengths\n",
    "lengths = []\n",
    "for txt in tqdm(df[text_col], desc=\"Tokenizing\"):\n",
    "    if isinstance(txt, str) and txt.strip():\n",
    "        ids = tokenizer(txt)[\"input_ids\"]\n",
    "        lengths.append(len(ids))\n",
    "    else:\n",
    "        lengths.append(0)  # handle NaNs/empties\n",
    "\n",
    "# 4) Convert to Series for easy stats\n",
    "lengths_series = pd.Series(lengths)\n",
    "\n",
    "# 5) Summary stats\n",
    "print(lengths_series.describe())\n",
    "print(\"\\nPercentiles:\")\n",
    "for p in [50, 75, 90, 95, 99, 100]:\n",
    "    print(f\"{p}th percentile: {lengths_series.quantile(p/100):.0f}\")\n",
    "\n",
    "# 6) Plot distribution\n",
    "plt.figure(figsize=(8,5))\n",
    "plt.hist(lengths_series, bins=50, color='skyblue', edgecolor='black')\n",
    "plt.title(\"BERTweet Tokenized Length Distribution\")\n",
    "plt.xlabel(\"Number of tokens\")\n",
    "plt.ylabel(\"Frequency\")\n",
    "plt.axvline(lengths_series.median(), color='red', linestyle='--', label=f\"Median={lengths_series.median():.0f}\")\n",
    "plt.legend()\n",
    "plt.show()"
   ]
  },
  {
   "cell_type": "code",
   "execution_count": 49,
   "id": "ac9909eb-51e5-4997-ba91-37ed39a7f5c7",
   "metadata": {},
   "outputs": [],
   "source": [
    "df.to_csv(\"my_eda.csv\", index=False)"
   ]
  },
  {
   "cell_type": "code",
   "execution_count": 53,
   "id": "17aa219f-9cc7-455a-b589-6706dd13fdd3",
   "metadata": {},
   "outputs": [
    {
     "name": "stderr",
     "output_type": "stream",
     "text": [
      "Tokenizing: 100%|██████████| 41092/41092 [00:35<00:00, 1159.08it/s]\n"
     ]
    },
    {
     "name": "stdout",
     "output_type": "stream",
     "text": [
      "count    41092.000000\n",
      "mean        46.722428\n",
      "std         16.802370\n",
      "min          3.000000\n",
      "25%         34.000000\n",
      "50%         48.000000\n",
      "75%         60.000000\n",
      "max        147.000000\n",
      "dtype: float64\n",
      "\n",
      "Percentiles:\n",
      "50th percentile: 48\n",
      "75th percentile: 60\n",
      "90th percentile: 68\n",
      "95th percentile: 72\n",
      "99th percentile: 82\n",
      "100th percentile: 147\n"
     ]
    },
    {
     "data": {
      "image/png": "[encoded data removed]",
      "text/plain": [
       "<Figure size 800x500 with 1 Axes>"
      ]
     },
     "metadata": {},
     "output_type": "display_data"
    }
   ],
   "source": [
    "import pandas as pd\n",
    "import matplotlib.pyplot as plt\n",
    "from transformers import AutoTokenizer\n",
    "from tqdm import tqdm\n",
    "\n",
    "# 1) Load tokenizer\n",
    "tokenizer = AutoTokenizer.from_pretrained(\"digitalepidemiologylab/covid-twitter-bert\", use_fast=False)\n",
    "\n",
    "# 2) Column to check (use your cleaned column)\n",
    "text_col = \"normalized_tweet\"  # replace with the name of your cleaned text column\n",
    "\n",
    "# 3) Get tokenized lengths\n",
    "lengths = []\n",
    "for txt in tqdm(df[text_col], desc=\"Tokenizing\"):\n",
    "    if isinstance(txt, str) and txt.strip():\n",
    "        ids = tokenizer(txt)[\"input_ids\"]\n",
    "        lengths.append(len(ids))\n",
    "    else:\n",
    "        lengths.append(0)  # handle NaNs/empties\n",
    "\n",
    "# 4) Convert to Series for easy stats\n",
    "lengths_series = pd.Series(lengths)\n",
    "\n",
    "# 5) Summary stats\n",
    "print(lengths_series.describe())\n",
    "print(\"\\nPercentiles:\")\n",
    "for p in [50, 75, 90, 95, 99, 100]:\n",
    "    print(f\"{p}th percentile: {lengths_series.quantile(p/100):.0f}\")\n",
    "\n",
    "# 6) Plot distribution\n",
    "plt.figure(figsize=(8,5))\n",
    "plt.hist(lengths_series, bins=50, color='skyblue', edgecolor='black')\n",
    "plt.title(\"CovidTwitterBert Tokenized Length Distribution\")\n",
    "plt.xlabel(\"Number of tokens\")\n",
    "plt.ylabel(\"Frequency\")\n",
    "plt.axvline(lengths_series.median(), color='red', linestyle='--', label=f\"Median={lengths_series.median():.0f}\")\n",
    "plt.legend()\n",
    "plt.show()"
   ]
  },
  {
   "cell_type": "code",
   "execution_count": null,
   "id": "455ee984-89de-47a8-9ef6-b0bd5729017d",
   "metadata": {},
   "outputs": [],
   "source": []
  }
 ],
 "metadata": {
  "kernelspec": {
   "display_name": "Python 3 (ipykernel)",
   "language": "python",
   "name": "python3"
  },
  "language_info": {
   "codemirror_mode": {
    "name": "ipython",
    "version": 3
   },
   "file_extension": ".py",
   "mimetype": "text/x-python",
   "name": "python",
   "nbconvert_exporter": "python",
   "pygments_lexer": "ipython3",
   "version": "3.11.7"
  }
 },
 "nbformat": 4,
 "nbformat_minor": 5
}
